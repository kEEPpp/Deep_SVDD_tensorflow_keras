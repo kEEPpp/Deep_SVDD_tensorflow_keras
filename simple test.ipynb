{
 "cells": [
  {
   "cell_type": "code",
   "execution_count": 1,
   "id": "durable-symbol",
   "metadata": {},
   "outputs": [],
   "source": [
    "import numpy as np\n",
    "import matplotlib.pyplot as plt\n",
    "\n",
    "from sklearn.metrics import roc_auc_score\n",
    "\n",
    "import tensorflow as tf\n",
    "import tensorflow.keras\n",
    "from tensorflow import keras\n",
    "from tensorflow.keras.layers import *\n",
    "from tensorflow.keras.models import *\n",
    "from tensorflow.keras import layers, losses\n",
    "from tensorflow.keras.models import Model"
   ]
  },
  {
   "cell_type": "code",
   "execution_count": 78,
   "id": "challenging-thanksgiving",
   "metadata": {},
   "outputs": [],
   "source": [
    "mnist = tf.keras.datasets.mnist\n",
    "\n",
    "(x_train, y_train), (x_test, y_test) = mnist.load_data()\n",
    "\n",
    "(x_train, y_train), (x_test, y_test) = tf.keras.datasets.mnist.load_data()\n",
    "\n",
    "x_train = x_train.reshape(60000, 784).astype(\"float32\") / 255.0\n",
    "x_test = x_test.reshape(10000, 784).astype(\"float32\") / 255.0\n",
    "#x_train, x_test = x_train / 255.0, x_test / 255.0"
   ]
  },
  {
   "cell_type": "code",
   "execution_count": 79,
   "id": "domestic-hughes",
   "metadata": {},
   "outputs": [],
   "source": [
    "y_train = y_train.reshape(60000,1)\n",
    "y_test = y_test.reshape(10000,1)"
   ]
  },
  {
   "cell_type": "code",
   "execution_count": 80,
   "id": "planned-arlington",
   "metadata": {},
   "outputs": [],
   "source": [
    "x_train_tf = tf.data.Dataset.from_tensor_slices(x_train)\n",
    "x_train_tf = x_train_tf.shuffle(buffer_size=1024).batch(32)\n",
    "\n",
    "\n",
    "y_train_tf = tf.data.Dataset.from_tensor_slices(y_train)\n",
    "y_train_tf = y_train_tf.shuffle(buffer_size=1024).batch(32)"
   ]
  },
  {
   "cell_type": "code",
   "execution_count": 2,
   "id": "decent-primary",
   "metadata": {},
   "outputs": [],
   "source": [
    "batch_size = 32\n",
    "(x_train, y_train), (x_test, y_test) = keras.datasets.mnist.load_data()\n",
    "x_train = np.reshape(x_train, (-1, 784))\n",
    "x_test = np.reshape(x_test, (-1, 784))\n",
    "\n",
    "train_dataset = tf.data.Dataset.from_tensor_slices((x_train, y_train))\n",
    "train_dataset = train_dataset.shuffle(buffer_size=1024).batch(batch_size)\n",
    "\n",
    "test_dataset = tf.data.Dataset.from_tensor_slices((x_train, y_train))\n",
    "test_dataset = test_dataset.shuffle(buffer_size=1024).batch(batch_size)"
   ]
  },
  {
   "cell_type": "code",
   "execution_count": 3,
   "id": "married-wrestling",
   "metadata": {},
   "outputs": [],
   "source": [
    "class MLP(Model):\n",
    "    def __init__(self, input_dim, hidden1, hidden2, hidden3, outputs):\n",
    "        super(MLP, self).__init__()\n",
    "\n",
    "        self.hidden1 = layers.Dense(hidden1, activation='relu', name='hidden1') # 500\n",
    "        self.hidden2 = layers.Dense(hidden2, activation='relu', name='hidden2') # 300\n",
    "        self.hidden3 = layers.Dense(hidden3, activation='relu', name='hidden3') # 100\n",
    "        self.hidden4 = layers.Dense(10, name='hidden4', activation = 'softmax')\n",
    "        #self.outputs = layers.Softmax(name = 'output') # 10\n",
    "        \n",
    "        #self.droupout = Droupout(0.2)\n",
    "        self.input_dim = input_dim\n",
    "    \n",
    "    def build_graph(self):\n",
    "        inputs_ = layers.Input(shape=self.input_dim, name = 'inputs')\n",
    "        return Model(inputs=inputs_, outputs=self.call(inputs_))\n",
    "        #self._init_graph_network(inputs=self.input_layer,outputs=self.out)\n",
    "        \n",
    "#     def model(self):\n",
    "#         x = layers.Input(shape=self.input_dim)\n",
    "#         return Model(inputs=x, outputs=self.call(x))\n",
    "\n",
    "    def call(self, input_data, training=False):\n",
    "        x = self.hidden1(input_data)\n",
    "        #if training == True:\n",
    "            #x = self.droupout(x)\n",
    "        x = self.hidden2(x)\n",
    "        x = self.hidden3(x)\n",
    "        x = self.hidden4(x)\n",
    "        #x = self.outputs(x)\n",
    "        return x"
   ]
  },
  {
   "cell_type": "code",
   "execution_count": 4,
   "id": "appointed-universal",
   "metadata": {},
   "outputs": [],
   "source": [
    "mlp = MLP(784, 500, 300, 100, 10)"
   ]
  },
  {
   "cell_type": "code",
   "execution_count": 21,
   "id": "destroyed-express",
   "metadata": {},
   "outputs": [
    {
     "name": "stdout",
     "output_type": "stream",
     "text": [
      "Model: \"functional_5\"\n",
      "_________________________________________________________________\n",
      "Layer (type)                 Output Shape              Param #   \n",
      "=================================================================\n",
      "inputs (InputLayer)          [(None, 784)]             0         \n",
      "_________________________________________________________________\n",
      "hidden1 (Dense)              (None, 500)               392500    \n",
      "_________________________________________________________________\n",
      "hidden2 (Dense)              (None, 300)               150300    \n",
      "_________________________________________________________________\n",
      "hidden3 (Dense)              (None, 100)               30100     \n",
      "_________________________________________________________________\n",
      "hidden4 (Dense)              (None, 10)                1010      \n",
      "_________________________________________________________________\n",
      "output (Softmax)             (None, 10)                0         \n",
      "=================================================================\n",
      "Total params: 573,910\n",
      "Trainable params: 573,910\n",
      "Non-trainable params: 0\n",
      "_________________________________________________________________\n"
     ]
    }
   ],
   "source": [
    "mlp.build_graph().summary()"
   ]
  },
  {
   "cell_type": "code",
   "execution_count": 17,
   "id": "smoking-scroll",
   "metadata": {},
   "outputs": [
    {
     "name": "stdout",
     "output_type": "stream",
     "text": [
      "Model: \"mlp_1\"\n",
      "_________________________________________________________________\n",
      "Layer (type)                 Output Shape              Param #   \n",
      "=================================================================\n",
      "hidden1 (Dense)              multiple                  392500    \n",
      "_________________________________________________________________\n",
      "hidden2 (Dense)              multiple                  150300    \n",
      "_________________________________________________________________\n",
      "hidden3 (Dense)              multiple                  30100     \n",
      "_________________________________________________________________\n",
      "hidden4 (Dense)              multiple                  1010      \n",
      "_________________________________________________________________\n",
      "output (Softmax)             multiple                  0         \n",
      "=================================================================\n",
      "Total params: 573,910\n",
      "Trainable params: 573,910\n",
      "Non-trainable params: 0\n",
      "_________________________________________________________________\n"
     ]
    }
   ],
   "source": [
    "mlp.summary()"
   ]
  },
  {
   "cell_type": "code",
   "execution_count": 18,
   "id": "grand-automation",
   "metadata": {},
   "outputs": [
    {
     "name": "stdout",
     "output_type": "stream",
     "text": [
      "('Failed to import pydot. You must `pip install pydot` and install graphviz (https://graphviz.gitlab.io/download/), ', 'for `pydotprint` to work.')\n"
     ]
    }
   ],
   "source": [
    "tf.keras.utils.plot_model(mlp.build_graph(), show_shapes=True, show_layer_names=True, rankdir='TB', dpi=100, expand_nested=True)"
   ]
  },
  {
   "cell_type": "code",
   "execution_count": 6,
   "id": "suburban-fighter",
   "metadata": {},
   "outputs": [
    {
     "data": {
      "text/plain": [
       "array([0, 2, 7, 4, 1, 8, 9, 3, 6, 5])"
      ]
     },
     "execution_count": 6,
     "metadata": {},
     "output_type": "execute_result"
    }
   ],
   "source": [
    "np.random.permutation(10)"
   ]
  },
  {
   "cell_type": "code",
   "execution_count": 5,
   "id": "final-diversity",
   "metadata": {},
   "outputs": [],
   "source": [
    "class Trainer:\n",
    "    def __init__(self,args, train, test):\n",
    "        self.args = args\n",
    "        self.train = train\n",
    "        #self.x_train = train[0]\n",
    "        #self.y_train = train[1]\n",
    "        \n",
    "        self.x_test = test[0]\n",
    "        self.y_test = test[1]\n",
    "    \n",
    "    def train_mlp1(self):\n",
    "        mlp = MLP(784, 500, 300, 100, 10)\n",
    "        loss_object = tf.keras.losses.SparseCategoricalCrossentropy()\n",
    "        metric = tf.keras.metrics.SparseCategoricalAccuracy()\n",
    "        optimizer = tf.keras.optimizers.Adam()\n",
    "        #metric = 'sparse_categorical_accuracy'\n",
    "\n",
    "        mlp.compile(optimizer=optimizer, loss=loss_object, metrics = metric)#metrics=['accuracy'])\n",
    "        hist = mlp.fit(x=self.x_train, y=self.y_train, batch_size = self.args['batch'], epochs=self.args['epochs'], )\n",
    "        \n",
    "        return mlp\n",
    "    \n",
    "    \n",
    "    def train_mlp2(self):\n",
    "        \n",
    "        loss_object = tf.keras.losses.SparseCategoricalCrossentropy()\n",
    "        optimizer = tf.keras.optimizers.Adam()\n",
    "        \n",
    "        train_loss = tf.keras.metrics.Mean(name='train_loss')\n",
    "        train_accuracy = tf.keras.metrics.SparseCategoricalAccuracy(name='train_accuracy')\n",
    "        \n",
    "        mlp = MLP(784, 500, 300, 100, 10)\n",
    "        \n",
    "        N = self.x_train.shape[0]\n",
    "        BS = self.args['batch']\n",
    "        BN = int(ceil(N / BS))\n",
    "        \n",
    "        for epoch in range(self.args['epochs']):\n",
    "            print(f\"Start of epoch {epoch}\")\n",
    "            ind = np.random.permutation(N)\n",
    "            x_train = self.x_train[ind]\n",
    "            y_train = self.y_train[ind]\n",
    "            g_batch = tqdm(range(BN))\n",
    "            # Iterate over the batches of the dataset.\n",
    "            loss_tracker = 0\n",
    "            for step in g_batch:\n",
    "                x_batch = x_train[step * BS: (step + 1) * BS]\n",
    "                y_batch = y_train[step * BS: (step + 1) * BS]\n",
    "                with tf.GradientTape() as tape:\n",
    "                    output = mlp(x_batch_train)\n",
    "                    loss = loss_object(y_batch, output)\n",
    "                    #loss += sum(mlp.losses) \n",
    "\n",
    "                grads = tape.gradient(loss, mlp.trainable_weights)\n",
    "                optimizer.apply_gradients(zip(grads, mlp.trainable_weights))\n",
    "\n",
    "                train_loss(loss)\n",
    "                train_accuracy(y_batch_train, output)\n",
    "                print(train_loss)\n",
    "                if step % 100 == 0:\n",
    "                    \n",
    "                    template = 'Step: {}, 손실: {:.3f}, 정확도: {:.3f}'\n",
    "                    print(template.format(step,\n",
    "                                          train_loss.result(),\n",
    "                                          train_accuracy.result()*100))\n",
    "                    \n",
    "                    #print(f\"Step: {step}, loss: {train_loss.result()}\")\n",
    "                    #print(\"step %d: mean loss = %.4f\" % (step, train_loss.result()))\n",
    "            print(f\"epoch: {epoch+1}, Loss: {loss_tracker}\")\n",
    "    \n",
    "    \n",
    "    def train_mlp(self):\n",
    "        \n",
    "        loss_object = tf.keras.losses.SparseCategoricalCrossentropy()\n",
    "        optimizer = tf.keras.optimizers.Adam()\n",
    "        \n",
    "        train_loss = tf.keras.metrics.Mean(name='train_loss')\n",
    "        train_accuracy = tf.keras.metrics.SparseCategoricalAccuracy(name='train_accuracy')\n",
    "        #train_accuracy = tf.keras.metrics.Accuracy(name = 'traom_accuracy')\n",
    "\n",
    "        \n",
    "        mlp = MLP(784, 500, 300, 100, 10)\n",
    "        for epoch in range(self.args['epochs']):\n",
    "            print(f\"Start of epoch {epoch+1}\")\n",
    "            # Iterate over the batches of the dataset.\n",
    "            loss_tracker = []\n",
    "            #for step, (x_batch_train, y_batch_train) in enumerate(zip(self.x_train, self.y_train)):\n",
    "            for step, (x_batch_train, y_batch_train) in enumerate(self.train): \n",
    "                with tf.GradientTape() as tape:\n",
    "                    output = mlp(x_batch_train, training = True)\n",
    "                    loss = loss_object(y_batch_train, output)\n",
    "                    #loss += sum(mlp.losses) \n",
    "\n",
    "                grads = tape.gradient(loss, mlp.trainable_weights)\n",
    "                optimizer.apply_gradients(zip(grads, mlp.trainable_weights))\n",
    "                #train_loss.update_state(loss)\n",
    "                #train_accuracy.update_state(y_batch_train, output)\n",
    "\n",
    "                train_loss(loss)\n",
    "                train_accuracy(y_batch_train, output)\n",
    " \n",
    "\n",
    "                if step % 100 == 0:\n",
    "                    template = 'Step: {}, 손실: {:.3f}, 정확도: {:.3f}'\n",
    "                    print(template.format(step,\n",
    "                                          train_loss.result(),\n",
    "                                          train_accuracy.result()*100))\n",
    "                   \n",
    "            print(f\"\\\n",
    "            epoch: {epoch+1},\\\n",
    "            Loss: {train_loss.result():.3f},\\\n",
    "            Accuracy: {train_accuracy.result():.3f},\\\n",
    "            \")\n",
    "        \n",
    "                    \n",
    "    def eval_step(self):\n",
    "        pass\n",
    "        #prediction = "
   ]
  },
  {
   "cell_type": "code",
   "execution_count": 6,
   "id": "integrated-bathroom",
   "metadata": {},
   "outputs": [],
   "source": [
    "args = {'epochs': 2,\n",
    "       'batch': 32}\n",
    "\n",
    "simple_mlp1 = Trainer(args, train=[x_train, y_train], test=[x_test, y_test])\n",
    "simple_mlp = Trainer(args, train=train_dataset, test=[x_test, y_test])"
   ]
  },
  {
   "cell_type": "code",
   "execution_count": 66,
   "id": "monthly-archive",
   "metadata": {
    "tags": []
   },
   "outputs": [
    {
     "name": "stdout",
     "output_type": "stream",
     "text": [
      "Epoch 1/2\n",
      "1875/1875 [==============================] - 4s 2ms/step - loss: 0.3324 - sparse_categorical_accuracy: 0.8971\n",
      "Epoch 2/2\n",
      "1875/1875 [==============================] - 4s 2ms/step - loss: 0.0839 - sparse_categorical_accuracy: 0.9735\n"
     ]
    },
    {
     "data": {
      "text/plain": [
       "<__main__.MLP at 0x1fbccc041c0>"
      ]
     },
     "execution_count": 66,
     "metadata": {},
     "output_type": "execute_result"
    }
   ],
   "source": [
    "simple_mlp1.train_mlp1()"
   ]
  },
  {
   "cell_type": "code",
   "execution_count": 7,
   "id": "sunrise-circuit",
   "metadata": {
    "tags": []
   },
   "outputs": [
    {
     "name": "stdout",
     "output_type": "stream",
     "text": [
      "Start of epoch 1\n",
      "Step: 0, 손실: 116.073, 정확도: 6.250\n",
      "Step: 100, 손실: 6.980, 정확도: 72.834\n",
      "Step: 200, 손실: 4.156, 정확도: 77.254\n",
      "Step: 300, 손실: 3.060, 정확도: 79.070\n",
      "Step: 400, 손실: 2.426, 정확도: 80.977\n",
      "Step: 500, 손실: 2.059, 정확도: 82.011\n",
      "Step: 600, 손실: 1.788, 정확도: 83.221\n",
      "Step: 700, 손실: 1.587, 정확도: 84.215\n",
      "Step: 800, 손실: 1.442, 정확도: 84.929\n",
      "Step: 900, 손실: 1.321, 정확도: 85.575\n",
      "Step: 1000, 손실: 1.226, 정확도: 86.051\n",
      "Step: 1100, 손실: 1.143, 정확도: 86.589\n",
      "Step: 1200, 손실: 1.071, 정확도: 87.084\n",
      "Step: 1300, 손실: 1.013, 정확도: 87.442\n",
      "Step: 1400, 손실: 0.960, 정확도: 87.817\n",
      "Step: 1500, 손실: 0.917, 정확도: 88.091\n",
      "Step: 1600, 손실: 0.879, 정확도: 88.335\n",
      "Step: 1700, 손실: 0.843, 정확도: 88.613\n",
      "Step: 1800, 손실: 0.808, 정확도: 88.905\n",
      "            epoch: 1,            Loss: 0.784,            Accuracy: 0.892,            \n",
      "Start of epoch 2\n",
      "Step: 0, 손실: 0.784, 정확도: 89.159\n",
      "Step: 100, 손실: 0.756, 정확도: 89.426\n",
      "Step: 200, 손실: 0.729, 정확도: 89.684\n",
      "Step: 300, 손실: 0.706, 정확도: 89.868\n",
      "Step: 400, 손실: 0.684, 정확도: 90.092\n",
      "Step: 500, 손실: 0.665, 정확도: 90.267\n",
      "Step: 600, 손실: 0.646, 정확도: 90.433\n",
      "Step: 700, 손실: 0.629, 정확도: 90.590\n",
      "Step: 800, 손실: 0.611, 정확도: 90.764\n",
      "Step: 900, 손실: 0.597, 정확도: 90.899\n",
      "Step: 1000, 손실: 0.585, 정확도: 90.990\n",
      "Step: 1100, 손실: 0.572, 정확도: 91.114\n",
      "Step: 1200, 손실: 0.560, 정확도: 91.229\n",
      "Step: 1300, 손실: 0.548, 정확도: 91.354\n",
      "Step: 1400, 손실: 0.536, 정확도: 91.471\n",
      "Step: 1500, 손실: 0.526, 정확도: 91.585\n",
      "Step: 1600, 손실: 0.516, 정확도: 91.674\n",
      "Step: 1700, 손실: 0.506, 정확도: 91.790\n",
      "Step: 1800, 손실: 0.497, 정확도: 91.888\n",
      "            epoch: 2,            Loss: 0.490,            Accuracy: 0.920,            \n"
     ]
    }
   ],
   "source": [
    "#model = simple_mlp.train_mlp1()\n",
    "simple_mlp.train_mlp()"
   ]
  }
 ],
 "metadata": {
  "kernelspec": {
   "display_name": "Python 3",
   "language": "python",
   "name": "python3"
  },
  "language_info": {
   "codemirror_mode": {
    "name": "ipython",
    "version": 3
   },
   "file_extension": ".py",
   "mimetype": "text/x-python",
   "name": "python",
   "nbconvert_exporter": "python",
   "pygments_lexer": "ipython3",
   "version": "3.8.8"
  }
 },
 "nbformat": 4,
 "nbformat_minor": 5
}
