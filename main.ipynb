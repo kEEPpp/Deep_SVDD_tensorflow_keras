{
 "cells": [
  {
   "cell_type": "code",
   "execution_count": 3,
   "id": "verbal-cologne",
   "metadata": {},
   "outputs": [],
   "source": [
    "import os\n",
    "\n",
    "import matplotlib.pyplot as plt\n",
    "import numpy as np\n",
    "import tensorflow as tf\n",
    "import tensorflow_addons as tfa\n",
    "import pandas as pd\n",
    "\n",
    "from icecream import ic\n",
    "from sklearn.metrics import roc_auc_score\n",
    "from tqdm import tqdm\n",
    "from tensorflow import keras\n",
    "from tensorflow.keras.layers import *\n",
    "from tensorflow.keras import layers, losses\n",
    "from tensorflow.keras.models import Model\n",
    "\n",
    "from Data.Data_Loader import Data_Loader\n",
    "from Model.simple_model import Pretrain_AutoEncoder\n",
    "from Model.simple_model import DeepSVDD\n",
    "from deep_svdd_train import DeepSVDDTrain\n",
    "from pretrain import PreTrain"
   ]
  },
  {
   "cell_type": "code",
   "execution_count": 4,
   "id": "engaging-mixer",
   "metadata": {},
   "outputs": [],
   "source": [
    "args = {'data_type':'mnist',\n",
    "        'normal_class':1,\n",
    "        'epochs':2,\n",
    "       'batch': 32,\n",
    "       'pretrain':True,\n",
    "       'tensorflow_data_type':False,\n",
    "       'weight_decay': 1e-6}"
   ]
  },
  {
   "cell_type": "code",
   "execution_count": 5,
   "id": "english-monroe",
   "metadata": {},
   "outputs": [],
   "source": [
    "data_loader = Data_Loader(args)\n",
    "\n",
    "pretrain_train_dataset, pretrain_test_dataset = data_loader.pretrain_mnist()\n",
    "svdd_train_dataset, svdd_test_dataset = data_loader.svdd_mnist()"
   ]
  },
  {
   "cell_type": "code",
   "execution_count": 8,
   "id": "documented-struggle",
   "metadata": {},
   "outputs": [],
   "source": [
    "args = {'epochs':2,\n",
    "       'batch': 32,\n",
    "       'pretrain':True,\n",
    "       'tensorflow_data_type':False,\n",
    "       'weight_decay': 1e-6}\n",
    "\n",
    "ae = Pretrain_AutoEncoder(500, 350, 2, 784)\n",
    "svdd = DeepSVDD(500, 350, 2, 784)\n",
    "\n",
    "trainer = PreTrain(args, ae_model=ae, train_dataset=pretrain_train_dataset, test_dataset = pretrain_test_dataset)\n",
    "trainer.start_check()"
   ]
  },
  {
   "cell_type": "code",
   "execution_count": 9,
   "id": "parliamentary-desert",
   "metadata": {},
   "outputs": [
    {
     "name": "stdout",
     "output_type": "stream",
     "text": [
      "Epoch 1/2\n",
      "211/211 [==============================] - 1s 4ms/step - loss: 0.0277 - mae: 0.0510\n",
      "Epoch 2/2\n",
      "211/211 [==============================] - 1s 4ms/step - loss: 0.0188 - mae: 0.0374\n",
      "C:\\Users\\HYKP\\PycharmProjects\\bistel\\Deep_SVDD_tensorflow_keras\\pretrain_weight\\pretrain_ae.hdf5\n"
     ]
    },
    {
     "data": {
      "text/plain": [
       "<tensorflow.python.keras.callbacks.History at 0x1d87a8055b0>"
      ]
     },
     "execution_count": 9,
     "metadata": {},
     "output_type": "execute_result"
    }
   ],
   "source": [
    "trainer.pretrain_ae()"
   ]
  },
  {
   "cell_type": "code",
   "execution_count": 10,
   "id": "beginning-corps",
   "metadata": {},
   "outputs": [],
   "source": [
    "deep_trainer = DeepSVDDTrain(args, svdd_model = svdd, train_dataset = svdd_train_dataset, test_dataset = svdd_test_dataset)"
   ]
  },
  {
   "cell_type": "code",
   "execution_count": 12,
   "id": "antique-boating",
   "metadata": {},
   "outputs": [
    {
     "name": "stdout",
     "output_type": "stream",
     "text": [
      "Start of epoch 1\n",
      "step 50: mean loss = 4.4342\n",
      "step 100: mean loss = 2.6532\n",
      "step 150: mean loss = 1.9488\n",
      "step 200: mean loss = 1.5867\n",
      "Start of epoch 2\n",
      "step 50: mean loss = 1.3009\n",
      "step 100: mean loss = 1.1379\n",
      "step 150: mean loss = 1.0313\n",
      "step 200: mean loss = 0.9378\n"
     ]
    }
   ],
   "source": [
    "model, R = deep_trainer.train_deep_svdd()"
   ]
  },
  {
   "cell_type": "code",
   "execution_count": 13,
   "id": "reduced-sector",
   "metadata": {},
   "outputs": [
    {
     "data": {
      "text/plain": [
       "0.0"
      ]
     },
     "execution_count": 13,
     "metadata": {},
     "output_type": "execute_result"
    }
   ],
   "source": [
    "R"
   ]
  },
  {
   "cell_type": "code",
   "execution_count": null,
   "id": "elect-rogers",
   "metadata": {},
   "outputs": [],
   "source": []
  }
 ],
 "metadata": {
  "kernelspec": {
   "display_name": "Python 3",
   "language": "python",
   "name": "python3"
  },
  "language_info": {
   "codemirror_mode": {
    "name": "ipython",
    "version": 3
   },
   "file_extension": ".py",
   "mimetype": "text/x-python",
   "name": "python",
   "nbconvert_exporter": "python",
   "pygments_lexer": "ipython3",
   "version": "3.8.8"
  }
 },
 "nbformat": 4,
 "nbformat_minor": 5
}
