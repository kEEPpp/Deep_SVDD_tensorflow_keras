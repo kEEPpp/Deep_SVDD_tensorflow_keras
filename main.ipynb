{
 "cells": [
  {
   "cell_type": "code",
   "execution_count": 2,
   "id": "intelligent-somewhere",
   "metadata": {},
   "outputs": [],
   "source": [
    "import os\n",
    "\n",
    "import matplotlib.pyplot as plt\n",
    "import numpy as np\n",
    "import tensorflow as tf\n",
    "import tensorflow_addons as tfa\n",
    "import pandas as pd\n",
    "\n",
    "from icecream import ic\n",
    "from sklearn.metrics import roc_auc_score\n",
    "from tqdm import tqdm\n",
    "from tensorflow import keras\n",
    "from tensorflow.keras.layers import *\n",
    "from tensorflow.keras import layers, losses\n",
    "from tensorflow.keras.models import Model\n",
    "\n",
    "from Data.Data_Loader import Data_Loader\n",
    "from Model.simple_model import Pretrain_AutoEncoder\n",
    "from Model.simple_model import DeepSVDD\n",
    "from deep_svdd_train import DeepSVDDTrain\n",
    "from pretrain import PreTrain"
   ]
  },
  {
   "cell_type": "code",
   "execution_count": 3,
   "id": "million-protest",
   "metadata": {},
   "outputs": [],
   "source": [
    "#json 파일로 바꿔보기\n",
    "args = {'data_type':'mnist',\n",
    "        'normal_class':1,\n",
    "        'epochs':10,\n",
    "       'batch': 32,\n",
    "       'pretrain':True,\n",
    "       'tensorflow_data_type':False,\n",
    "       'weight_decay': 1e-6}"
   ]
  },
  {
   "cell_type": "code",
   "execution_count": 4,
   "id": "thermal-destiny",
   "metadata": {},
   "outputs": [],
   "source": [
    "data_loader = Data_Loader(args)\n",
    "\n",
    "pretrain_train_dataset, pretrain_test_dataset = data_loader.pretrain_mnist()\n",
    "svdd_train_dataset, svdd_test_dataset = data_loader.svdd_mnist()"
   ]
  },
  {
   "cell_type": "code",
   "execution_count": 26,
   "id": "aware-collapse",
   "metadata": {},
   "outputs": [],
   "source": [
    "model = DeepSVDD(500, 350, 2, 784)"
   ]
  },
  {
   "cell_type": "code",
   "execution_count": 35,
   "id": "ultimate-highway",
   "metadata": {},
   "outputs": [
    {
     "name": "stdout",
     "output_type": "stream",
     "text": [
      "INFO:tensorflow:Assets written to: my_model\\assets\n"
     ]
    }
   ],
   "source": [
    "input_arr = tf.random.uniform((1, 784))\n",
    "model(input_arr)\n",
    "model.save('my_model', save_format='tf')"
   ]
  },
  {
   "cell_type": "code",
   "execution_count": 33,
   "id": "universal-version",
   "metadata": {},
   "outputs": [],
   "source": [
    "model.save_weights('asd.h5')"
   ]
  },
  {
   "cell_type": "code",
   "execution_count": 34,
   "id": "center-mobility",
   "metadata": {},
   "outputs": [],
   "source": [
    "model.load_weights('asd.h5')"
   ]
  },
  {
   "cell_type": "code",
   "execution_count": 6,
   "id": "banned-dimension",
   "metadata": {},
   "outputs": [
    {
     "data": {
      "text/plain": [
       "2"
      ]
     },
     "execution_count": 6,
     "metadata": {},
     "output_type": "execute_result"
    }
   ],
   "source": [
    "svdda.latent_dim"
   ]
  },
  {
   "cell_type": "code",
   "execution_count": 19,
   "id": "intellectual-meaning",
   "metadata": {},
   "outputs": [
    {
     "name": "stdout",
     "output_type": "stream",
     "text": [
      "INFO:tensorflow:Assets written to: my_model\\assets\n"
     ]
    }
   ],
   "source": [
    "class CustomModel(keras.Model):\n",
    "    def __init__(self, hidden_units):\n",
    "        super(CustomModel, self).__init__()\n",
    "        self.dense_layers = [keras.layers.Dense(u) for u in hidden_units]\n",
    "\n",
    "    def call(self, inputs):\n",
    "        x = inputs\n",
    "        for layer in self.dense_layers:\n",
    "            x = layer(x)\n",
    "        return x\n",
    "\n",
    "\n",
    "model = CustomModel([16, 16, 10])\n",
    "# Build the model by calling it\n",
    "input_arr = tf.random.uniform((1, 5))\n",
    "outputs = model(input_arr)\n",
    "model.save(\"my_model\")"
   ]
  },
  {
   "cell_type": "code",
   "execution_count": 10,
   "id": "celtic-jersey",
   "metadata": {},
   "outputs": [],
   "source": [
    "ae = Pretrain_AutoEncoder(500, 350, 2, 784)\n",
    "svdd = DeepSVDD(500, 350, 2, 784)\n",
    "\n",
    "trainer = PreTrain(config, ae_model=ae, train_dataset=pretrain_train_dataset, test_dataset = pretrain_test_dataset)\n",
    "trainer.start_check()"
   ]
  },
  {
   "cell_type": "code",
   "execution_count": 39,
   "id": "radical-establishment",
   "metadata": {},
   "outputs": [
    {
     "data": {
      "text/plain": [
       "784"
      ]
     },
     "execution_count": 39,
     "metadata": {},
     "output_type": "execute_result"
    }
   ],
   "source": [
    "svdd.input_dim"
   ]
  },
  {
   "cell_type": "code",
   "execution_count": 8,
   "id": "elegant-dubai",
   "metadata": {},
   "outputs": [
    {
     "name": "stdout",
     "output_type": "stream",
     "text": [
      "Epoch 1/10\n",
      "211/211 [==============================] - 2s 7ms/step - loss: 0.0325 - mae: 0.0550\n",
      "Epoch 2/10\n",
      "211/211 [==============================] - 1s 7ms/step - loss: 0.0178 - mae: 0.0364\n",
      "Epoch 3/10\n",
      "211/211 [==============================] - 1s 7ms/step - loss: 0.0164 - mae: 0.0349\n",
      "Epoch 4/10\n",
      "211/211 [==============================] - 1s 7ms/step - loss: 0.0145 - mae: 0.0317\n",
      "Epoch 5/10\n",
      "211/211 [==============================] - 2s 7ms/step - loss: 0.0140 - mae: 0.0305\n",
      "Epoch 6/10\n",
      "211/211 [==============================] - 2s 7ms/step - loss: 0.0131 - mae: 0.0293\n",
      "Epoch 7/10\n",
      "211/211 [==============================] - 2s 7ms/step - loss: 0.0130 - mae: 0.0291\n",
      "Epoch 8/10\n",
      "211/211 [==============================] - 2s 7ms/step - loss: 0.0130 - mae: 0.0290\n",
      "Epoch 9/10\n",
      "211/211 [==============================] - 1s 7ms/step - loss: 0.0128 - mae: 0.0287\n",
      "Epoch 10/10\n",
      "211/211 [==============================] - 1s 7ms/step - loss: 0.0127 - mae: 0.0288\n",
      "Saved to C:\\Users\\HYKP\\PycharmProjects\\bistel\\Deep_SVDD_tensorflow_keras\\pretrain_weight\\pretrain_ae.hdf5\n"
     ]
    }
   ],
   "source": [
    "hist = trainer.pretrain_ae()"
   ]
  },
  {
   "cell_type": "code",
   "execution_count": 9,
   "id": "dominican-volume",
   "metadata": {},
   "outputs": [],
   "source": [
    "#args = args\n",
    "#DeepSVDDTrain(args=args, svdd_model=svdd, train_dataset = svdd_train_dataset, test_dataset = svdd_test_dataset) args = args(X) 여백 X\n",
    "#argument들은 꼭 공백없이 붙여서\n",
    "deep_trainer = DeepSVDDTrain(args=args, svdd_model=svdd, train_dataset=svdd_train_dataset, test_dataset=svdd_test_dataset)"
   ]
  },
  {
   "cell_type": "code",
   "execution_count": 10,
   "id": "standard-charm",
   "metadata": {
    "collapsed": true,
    "jupyter": {
     "outputs_hidden": true
    },
    "tags": []
   },
   "outputs": [
    {
     "name": "stdout",
     "output_type": "stream",
     "text": [
      "Start of epoch 1\n",
      "step 50: mean loss = 7.4031\n",
      "step 100: mean loss = 4.3118\n",
      "step 150: mean loss = 3.1084\n",
      "step 200: mean loss = 2.4366\n",
      "Start of epoch 2\n",
      "step 50: mean loss = 1.9485\n",
      "step 100: mean loss = 1.6953\n",
      "step 150: mean loss = 1.4974\n",
      "step 200: mean loss = 1.3438\n",
      "Start of epoch 3\n",
      "step 50: mean loss = 1.1971\n",
      "step 100: mean loss = 1.0967\n",
      "step 150: mean loss = 1.0148\n",
      "step 200: mean loss = 0.9477\n",
      "Start of epoch 4\n",
      "step 50: mean loss = 0.8766\n",
      "step 100: mean loss = 0.8251\n",
      "step 150: mean loss = 0.7834\n",
      "step 200: mean loss = 0.7444\n",
      "Start of epoch 5\n",
      "step 50: mean loss = 0.7011\n",
      "step 100: mean loss = 0.6687\n",
      "step 150: mean loss = 0.6391\n",
      "step 200: mean loss = 0.6123\n",
      "Start of epoch 6\n",
      "step 50: mean loss = 0.5833\n",
      "step 100: mean loss = 0.5618\n",
      "step 150: mean loss = 0.5426\n",
      "step 200: mean loss = 0.5239\n",
      "Start of epoch 7\n",
      "step 50: mean loss = 0.5027\n",
      "step 100: mean loss = 0.4873\n",
      "step 150: mean loss = 0.4728\n",
      "step 200: mean loss = 0.4601\n",
      "Start of epoch 8\n",
      "step 50: mean loss = 0.4452\n",
      "step 100: mean loss = 0.4333\n",
      "step 150: mean loss = 0.4221\n",
      "step 200: mean loss = 0.4111\n",
      "Start of epoch 9\n",
      "step 50: mean loss = 0.3987\n",
      "step 100: mean loss = 0.3890\n",
      "step 150: mean loss = 0.3800\n",
      "step 200: mean loss = 0.3719\n",
      "Start of epoch 10\n",
      "step 50: mean loss = 0.3618\n",
      "step 100: mean loss = 0.3541\n",
      "step 150: mean loss = 0.3464\n",
      "step 200: mean loss = 0.3392\n"
     ]
    }
   ],
   "source": [
    "svdd, R = deep_trainer.train_deep_svdd()"
   ]
  },
  {
   "cell_type": "code",
   "execution_count": 25,
   "id": "separated-orleans",
   "metadata": {},
   "outputs": [],
   "source": [
    "center = deep_trainer.set_c()"
   ]
  },
  {
   "cell_type": "code",
   "execution_count": 11,
   "id": "southern-defense",
   "metadata": {},
   "outputs": [
    {
     "data": {
      "text/plain": [
       "0.11490287184715274"
      ]
     },
     "execution_count": 11,
     "metadata": {},
     "output_type": "execute_result"
    }
   ],
   "source": [
    "plt.plot()"
   ]
  },
  {
   "cell_type": "code",
   "execution_count": 17,
   "id": "diagnostic-unemployment",
   "metadata": {},
   "outputs": [],
   "source": [
    "a = svdd.predict(pretrain_train_dataset)\n",
    "b = svdd.predict(pretrain_test_dataset)\n",
    "c = svdd.predict(svdd_test_dataset)"
   ]
  },
  {
   "cell_type": "code",
   "execution_count": 29,
   "id": "lightweight-newman",
   "metadata": {},
   "outputs": [
    {
     "data": {
      "image/png": "[encoded data removed]",
      "text/plain": [
       "<Figure size 432x288 with 1 Axes>"
      ]
     },
     "metadata": {
      "needs_background": "light"
     },
     "output_type": "display_data"
    }
   ],
   "source": [
    "fig, ax = plt.subplots()\n",
    "ax.scatter(c[:,0], c[:,1])\n",
    "ax.scatter(a[:,0], a[:,1], color ='r')\n",
    "ax.scatter(center[0], center[1], s = 100)\n",
    "\n",
    "circle = plt.Circle((center[0], center[1]), R, fill=False)\n",
    "ax.add_artist(circle)\n",
    "plt.show()"
   ]
  }
 ],
 "metadata": {
  "kernelspec": {
   "display_name": "Python 3",
   "language": "python",
   "name": "python3"
  },
  "language_info": {
   "codemirror_mode": {
    "name": "ipython",
    "version": 3
   },
   "file_extension": ".py",
   "mimetype": "text/x-python",
   "name": "python",
   "nbconvert_exporter": "python",
   "pygments_lexer": "ipython3",
   "version": "3.8.8"
  }
 },
 "nbformat": 4,
 "nbformat_minor": 5
}
