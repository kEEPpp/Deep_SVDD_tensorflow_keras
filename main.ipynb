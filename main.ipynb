{
 "cells": [
  {
   "cell_type": "code",
   "execution_count": 96,
   "id": "mighty-scheme",
   "metadata": {
    "tags": []
   },
   "outputs": [],
   "source": [
    "import os\n",
    "\n",
    "import matplotlib.pyplot as plt\n",
    "import numpy as np\n",
    "import tensorflow as tf\n",
    "import tensorflow_addons as tfa\n",
    "import tensorflow_probability as tfp\n",
    "import pandas as pd\n",
    "\n",
    "from icecream import ic\n",
    "from sklearn.metrics import roc_auc_score\n",
    "from tqdm import tqdm\n",
    "from tensorflow import keras\n",
    "from tensorflow.keras.layers import *\n",
    "from tensorflow.keras import layers, losses\n",
    "# from tensorflow.keras import lossesf\n",
    "from tensorflow.keras.models import Model\n",
    "\n",
    "from Data.Data_Loader import Data_Loader\n",
    "from Model.simple_model import Pretrain_AutoEncoder\n",
    "from Model.simple_model import DeepSVDD\n",
    "\n",
    "MODEL_SAVE_DIR_PATH = os.path.abspath('pretrain_weight')\n",
    "\n",
    "class CustomCallback(keras.callbacks.Callback):\n",
    "    # def on_epoch_begin(self, epoch, logs=None):\n",
    "    #     keys = list(logs.keys())\n",
    "    #     print(\"Start epoch {} of training; got log keys: {}\".format(epoch, keys))\n",
    "\n",
    "    def on_epoch_begin(self, epoch, logs=None):\n",
    "        keys = list(logs.keys())\n",
    "        print(f\"this is test case{epoch}\")\n",
    "\n",
    "\n",
    "class Train:\n",
    "    def __init__(self, config: dict, latent_dim, input_dim):\n",
    "        self.config = config\n",
    "        self.pretrain_ae = Pretrain_AutoEncoder(latent_dim=latent_dim, input_dim=input_dim)\n",
    "        self.svdd = DeepSVDD(latent_dim=latent_dim, input_dim=input_dim)\n",
    "        self.value = {'c': config['c'],\n",
    "                      'R': config['R'],\n",
    "                      'nu': config['nu']}\n",
    "        self.latent_dim = latent_dim\n",
    "        self.input_dim = input_dim\n",
    "        self.dist_op = 0.0\n",
    "        self.data_loader = Data_Loader(self.config)\n",
    "        self.check()\n",
    "        self.dist = 0.0\n",
    "\n",
    "    # weight 저장 폴더 생성\n",
    "    def check(self):\n",
    "        if not os.path.exists('pretrain_weight'):\n",
    "            os.mkdir('pretrain_weight')\n",
    "\n",
    "    def pretrain(self):\n",
    "        ae = self.pretrain_ae.build_graph()\n",
    "        train_dataset_pre, test_dataset_pre = self.data_loader.pretrain_mnist()\n",
    "        loss_object = tf.keras.losses.MeanSquaredError()\n",
    "        optimizer = tf.keras.optimizers.Adam()\n",
    "\n",
    "        ae.compile(optimizer=optimizer, loss=loss_object, metrics=['mae'])\n",
    "        hist = ae.fit(train_dataset_pre, epochs=self.config['pretrain_epoch'])\n",
    "\n",
    "        encoder_part = Model(ae.get_layer('inputs').input, ae.get_layer('latent').output)\n",
    "        self.save_weights_pretrain(encoder_part)\n",
    "\n",
    "        return hist, ae\n",
    "\n",
    "    def save_weights_pretrain(self, model):\n",
    "        \"\"\"학습된 AutoEncoder 가중치를 DeepSVDD모델에 Initialize해주는 함수\"\"\"\n",
    "        print(f\"Saved to {os.path.join(MODEL_SAVE_DIR_PATH, 'pretrain_ae.hdf5')}\")\n",
    "        model.save_weights(os.path.join(MODEL_SAVE_DIR_PATH, 'pretrain_ae.hdf5'))  # model save\n",
    "\n",
    "    def get_c(self, eps=0.1):\n",
    "        \"\"\"Initializing the center for the hypersphere\"\"\"\n",
    "        if self.config['pretrain']:\n",
    "            self.svdd.load_weights(os.path.join(MODEL_SAVE_DIR_PATH, 'pretrain_ae.hdf5'))\n",
    "            train_dataset_pre, _ = self.data_loader.pretrain_mnist()\n",
    "            z_list = []\n",
    "            for (x_train_batch, _) in train_dataset_pre:\n",
    "                z = self.svdd.predict(x_train_batch)\n",
    "                z_list.append(z)\n",
    "            z_list = np.concatenate(z_list)\n",
    "            c = z_list.mean(axis=0)\n",
    "            # & ==> and로 바꾸기(속도가 더 빠름)\n",
    "            c[(abs(c) < eps) & (c < 0)] = -eps  # avoid trivial solution that c = 0 is trivial solution\n",
    "            c[(abs(c) < eps) & (c > 0)] = eps\n",
    "\n",
    "        else:\n",
    "            c = np.array(eps * self.svdd.latent_dim)  # pretrain model 없을시 초기화\n",
    "\n",
    "        self.value['c'] = c\n",
    "\n",
    "    def weight_loss(self, y_true, y_pred):\n",
    "        dist_op = tf.reduce_sum(tf.square(y_pred - self.value['c']), axis=-1) # evaluation 할 때 distance, score function 생성\n",
    "        self.dist = (tf.identity(dist_op))\n",
    "        #self.dist_op = (tf.square(y_pred - self.value['c']))\n",
    "        score_op = (dist_op - self.value['R'] ** 2)\n",
    "        penalty = tf.reduce_mean(tf.maximum(score_op, tf.zeros_like(score_op)))  # tf.reduce_mean 추가\n",
    "        loss_op = self.value['R'] ** 2 + (1 / self.value['nu']) * penalty\n",
    "        return loss_op\n",
    "\n",
    "    def radius(self, epoch, logs={}):\n",
    "        if (epoch+1) % 5 == 0:\n",
    "            self.get_r()\n",
    "\n",
    "    def svdd_train_fit(self):\n",
    "        if self.config['pretrain']:\n",
    "            self.svdd.build((1,self.input_dim))\n",
    "            self.svdd.load_weights(os.path.join(MODEL_SAVE_DIR_PATH, 'pretrain_ae.hdf5'))\n",
    "            self.get_c()\n",
    "\n",
    "        train_dataset, test_dataset = self.data_loader.svdd_mnist()\n",
    "        optimizer = tfa.optimizers.AdamW(weight_decay=self.config['weight_decay'])\n",
    "        loss_obj = self.weight_loss\n",
    "        printlogcallback = tf.keras.callbacks.LambdaCallback(on_epoch_end=self.radius)\n",
    "\n",
    "        self.svdd.compile(optimizer=optimizer, loss=loss_obj)\n",
    "        for epoch_ in range(self.config['svdd_epoch']):\n",
    "            self.svdd.fit(train_dataset, epochs=1)\n",
    "            if (epoch_+1) % 5 == 0:\n",
    "                self.get_r()\n",
    "\n",
    "        return self.svdd, self.value\n",
    "\n",
    "    def svdd_train(self):\n",
    "        if self.config['pretrain']:\n",
    "            self.svdd.build((1,self.input_dim))\n",
    "            self.svdd.load_weights(os.path.join(MODEL_SAVE_DIR_PATH, 'pretrain_ae.hdf5'))\n",
    "            self.get_c()\n",
    "\n",
    "        train_dataset, test_dataset = self.data_loader.svdd_mnist()\n",
    "        \"\"\"training code\"\"\"\n",
    "        # loss_object = tf.keras.losses.SparseCategoricalCrossentropy()\n",
    "        #loss_object = self.weight_loss()\n",
    "        # optimizer = tf.keras.optimizers.Adam()\n",
    "        optimizer = tfa.optimizers.AdamW(weight_decay=self.config['weight_decay'])\n",
    "\n",
    "        train_loss = tf.keras.metrics.Mean(name='train_loss')\n",
    "        train_accuracy = tf.keras.metrics.SparseCategoricalAccuracy(name='train_accuracy')\n",
    "\n",
    "        epochs = self.config['svdd_epoch']\n",
    "        for epoch in range(epochs):\n",
    "            print(f\"Start of epoch {epoch + 1}\")\n",
    "\n",
    "            # Iterate over the batches of the dataset.\n",
    "            for step, (x_batch_train, y_batch_train) in enumerate(train_dataset):\n",
    "                with tf.GradientTape() as tape:\n",
    "                    reconstructed = self.svdd(x_batch_train)\n",
    "                    # Compute reconstruction loss\n",
    "                    loss = self.weight_loss(y_batch_train, reconstructed)\n",
    "\n",
    "                grads = tape.gradient(loss, self.svdd.trainable_weights)\n",
    "                optimizer.apply_gradients(zip(grads, self.svdd.trainable_weights))\n",
    "\n",
    "                train_loss(loss)\n",
    "                #if (step + 1) % 50 == 0:\n",
    "                    #print(f\"step {step + 1}: mean loss = {train_loss.result():.4f}\")\n",
    "                if (epoch + 1) % 5 == 0:\n",
    "                    self.get_r()\n",
    "            print(f\"epoch {epoch + 1}: mean loss = {train_loss.result():.4f}\")\n",
    "\n",
    "        return self.svdd, self.value\n",
    "\n",
    "    def get_r(self):\n",
    "        #self.value['R'] = tfp.stats.quantiles(tf.sqrt(self.dist), 1 - self.value['nu'])\n",
    "        self.value['R'] = np.quantile(np.sqrt(self.dist), 1 - self.value['nu'])"
   ]
  },
  {
   "cell_type": "code",
   "execution_count": 56,
   "id": "desperate-insert",
   "metadata": {},
   "outputs": [],
   "source": [
    "import json\n",
    "import os\n",
    "\n",
    "import matplotlib.pyplot as plt\n",
    "import numpy as np\n",
    "import tensorflow as tf\n",
    "import tensorflow_addons as tfa\n",
    "import pandas as pd\n",
    "\n",
    "from icecream import ic\n",
    "from sklearn.metrics import roc_auc_score\n",
    "from TaPR_pkg import etapr\n",
    "from tensorflow import keras\n",
    "from tensorflow.keras.layers import *\n",
    "from tensorflow.keras import layers, losses\n",
    "from tensorflow.keras.models import Model\n",
    "from tqdm import tqdm\n",
    "\n",
    "#from Data.Data_Loader import Data_Loader\n",
    "#from Model.simple_model import Pretrain_AutoEncoder\n",
    "#from Model.simple_model import DeepSVDD\n",
    "from Preprocessing.preprocessing import convert_str_to_bool\n",
    "#from train_temp import Train"
   ]
  },
  {
   "cell_type": "code",
   "execution_count": 97,
   "id": "generic-russian",
   "metadata": {},
   "outputs": [],
   "source": [
    "json_path = os.path.join(os.path.abspath('config'), 'config.json')\n",
    "with open(json_path, 'r') as f:\n",
    "    config = json.load(f)\n",
    "    config = convert_str_to_bool(config)"
   ]
  },
  {
   "cell_type": "code",
   "execution_count": 98,
   "id": "electric-rotation",
   "metadata": {},
   "outputs": [],
   "source": [
    "model = Train(config, 2, 784)"
   ]
  },
  {
   "cell_type": "code",
   "execution_count": 99,
   "id": "numerical-teacher",
   "metadata": {
    "tags": []
   },
   "outputs": [],
   "source": [
    "#hist, ae = model.pretrain()"
   ]
  },
  {
   "cell_type": "code",
   "execution_count": 100,
   "id": "behavioral-generic",
   "metadata": {
    "tags": []
   },
   "outputs": [
    {
     "name": "stdout",
     "output_type": "stream",
     "text": [
      "211/211 [==============================] - 1s 3ms/step - loss: 2.6272\n",
      "211/211 [==============================] - 1s 2ms/step - loss: 0.2914\n",
      "211/211 [==============================] - 1s 3ms/step - loss: 0.2314\n",
      "211/211 [==============================] - 1s 3ms/step - loss: 0.1648\n",
      "211/211 [==============================] - 1s 3ms/step - loss: 0.1310\n"
     ]
    },
    {
     "ename": "TypeError",
     "evalue": "An op outside of the function building code is being passed\na \"Graph\" tensor. It is possible to have Graph tensors\nleak out of the function building context by including a\ntf.init_scope in your function building code.\nFor example, the following function will fail:\n  @tf.function\n  def has_init_scope():\n    my_constant = tf.constant(1.)\n    with tf.init_scope():\n      added = my_constant * 2\nThe graph tensor has name: weight_loss/Identity:0",
     "output_type": "error",
     "traceback": [
      "\u001b[1;31m---------------------------------------------------------------------------\u001b[0m",
      "\u001b[1;31mTypeError\u001b[0m                                 Traceback (most recent call last)",
      "\u001b[1;32m<ipython-input-100-b4f6d1584b31>\u001b[0m in \u001b[0;36m<module>\u001b[1;34m\u001b[0m\n\u001b[1;32m----> 1\u001b[1;33m \u001b[0msvdd\u001b[0m\u001b[1;33m,\u001b[0m \u001b[0mvalue\u001b[0m \u001b[1;33m=\u001b[0m \u001b[0mmodel\u001b[0m\u001b[1;33m.\u001b[0m\u001b[0msvdd_train_fit\u001b[0m\u001b[1;33m(\u001b[0m\u001b[1;33m)\u001b[0m\u001b[1;33m\u001b[0m\u001b[1;33m\u001b[0m\u001b[0m\n\u001b[0m",
      "\u001b[1;32m<ipython-input-96-d6c4360de87c>\u001b[0m in \u001b[0;36msvdd_train_fit\u001b[1;34m(self)\u001b[0m\n\u001b[0;32m    120\u001b[0m             \u001b[0mself\u001b[0m\u001b[1;33m.\u001b[0m\u001b[0msvdd\u001b[0m\u001b[1;33m.\u001b[0m\u001b[0mfit\u001b[0m\u001b[1;33m(\u001b[0m\u001b[0mtrain_dataset\u001b[0m\u001b[1;33m,\u001b[0m \u001b[0mepochs\u001b[0m\u001b[1;33m=\u001b[0m\u001b[1;36m1\u001b[0m\u001b[1;33m)\u001b[0m\u001b[1;33m\u001b[0m\u001b[1;33m\u001b[0m\u001b[0m\n\u001b[0;32m    121\u001b[0m             \u001b[1;32mif\u001b[0m \u001b[1;33m(\u001b[0m\u001b[0mepoch_\u001b[0m\u001b[1;33m+\u001b[0m\u001b[1;36m1\u001b[0m\u001b[1;33m)\u001b[0m \u001b[1;33m%\u001b[0m \u001b[1;36m5\u001b[0m \u001b[1;33m==\u001b[0m \u001b[1;36m0\u001b[0m\u001b[1;33m:\u001b[0m\u001b[1;33m\u001b[0m\u001b[1;33m\u001b[0m\u001b[0m\n\u001b[1;32m--> 122\u001b[1;33m                 \u001b[0mself\u001b[0m\u001b[1;33m.\u001b[0m\u001b[0mget_r\u001b[0m\u001b[1;33m(\u001b[0m\u001b[1;33m)\u001b[0m\u001b[1;33m\u001b[0m\u001b[1;33m\u001b[0m\u001b[0m\n\u001b[0m\u001b[0;32m    123\u001b[0m \u001b[1;33m\u001b[0m\u001b[0m\n\u001b[0;32m    124\u001b[0m         \u001b[1;32mreturn\u001b[0m \u001b[0mself\u001b[0m\u001b[1;33m.\u001b[0m\u001b[0msvdd\u001b[0m\u001b[1;33m,\u001b[0m \u001b[0mself\u001b[0m\u001b[1;33m.\u001b[0m\u001b[0mvalue\u001b[0m\u001b[1;33m\u001b[0m\u001b[1;33m\u001b[0m\u001b[0m\n",
      "\u001b[1;32m<ipython-input-96-d6c4360de87c>\u001b[0m in \u001b[0;36mget_r\u001b[1;34m(self)\u001b[0m\n\u001b[0;32m    164\u001b[0m \u001b[1;33m\u001b[0m\u001b[0m\n\u001b[0;32m    165\u001b[0m     \u001b[1;32mdef\u001b[0m \u001b[0mget_r\u001b[0m\u001b[1;33m(\u001b[0m\u001b[0mself\u001b[0m\u001b[1;33m)\u001b[0m\u001b[1;33m:\u001b[0m\u001b[1;33m\u001b[0m\u001b[1;33m\u001b[0m\u001b[0m\n\u001b[1;32m--> 166\u001b[1;33m         \u001b[0mself\u001b[0m\u001b[1;33m.\u001b[0m\u001b[0mvalue\u001b[0m\u001b[1;33m[\u001b[0m\u001b[1;34m'R'\u001b[0m\u001b[1;33m]\u001b[0m \u001b[1;33m=\u001b[0m \u001b[0mtfp\u001b[0m\u001b[1;33m.\u001b[0m\u001b[0mstats\u001b[0m\u001b[1;33m.\u001b[0m\u001b[0mquantiles\u001b[0m\u001b[1;33m(\u001b[0m\u001b[0mtf\u001b[0m\u001b[1;33m.\u001b[0m\u001b[0msqrt\u001b[0m\u001b[1;33m(\u001b[0m\u001b[0mself\u001b[0m\u001b[1;33m.\u001b[0m\u001b[0mdist\u001b[0m\u001b[1;33m)\u001b[0m\u001b[1;33m,\u001b[0m \u001b[1;36m1\u001b[0m \u001b[1;33m-\u001b[0m \u001b[0mself\u001b[0m\u001b[1;33m.\u001b[0m\u001b[0mvalue\u001b[0m\u001b[1;33m[\u001b[0m\u001b[1;34m'nu'\u001b[0m\u001b[1;33m]\u001b[0m\u001b[1;33m)\u001b[0m\u001b[1;33m\u001b[0m\u001b[1;33m\u001b[0m\u001b[0m\n\u001b[0m\u001b[0;32m    167\u001b[0m         \u001b[1;31m#self.value['R'] = np.quantile(np.sqrt(self.dist), 1 - self.value['nu'])\u001b[0m\u001b[1;33m\u001b[0m\u001b[1;33m\u001b[0m\u001b[1;33m\u001b[0m\u001b[0m\n",
      "\u001b[1;32m~\\AppData\\Roaming\\Python\\Python38\\site-packages\\tensorflow\\python\\util\\dispatch.py\u001b[0m in \u001b[0;36mwrapper\u001b[1;34m(*args, **kwargs)\u001b[0m\n\u001b[0;32m    204\u001b[0m     \u001b[1;34m\"\"\"Call target, and fall back on dispatchers if there is a TypeError.\"\"\"\u001b[0m\u001b[1;33m\u001b[0m\u001b[1;33m\u001b[0m\u001b[0m\n\u001b[0;32m    205\u001b[0m     \u001b[1;32mtry\u001b[0m\u001b[1;33m:\u001b[0m\u001b[1;33m\u001b[0m\u001b[1;33m\u001b[0m\u001b[0m\n\u001b[1;32m--> 206\u001b[1;33m       \u001b[1;32mreturn\u001b[0m \u001b[0mtarget\u001b[0m\u001b[1;33m(\u001b[0m\u001b[1;33m*\u001b[0m\u001b[0margs\u001b[0m\u001b[1;33m,\u001b[0m \u001b[1;33m**\u001b[0m\u001b[0mkwargs\u001b[0m\u001b[1;33m)\u001b[0m\u001b[1;33m\u001b[0m\u001b[1;33m\u001b[0m\u001b[0m\n\u001b[0m\u001b[0;32m    207\u001b[0m     \u001b[1;32mexcept\u001b[0m \u001b[1;33m(\u001b[0m\u001b[0mTypeError\u001b[0m\u001b[1;33m,\u001b[0m \u001b[0mValueError\u001b[0m\u001b[1;33m)\u001b[0m\u001b[1;33m:\u001b[0m\u001b[1;33m\u001b[0m\u001b[1;33m\u001b[0m\u001b[0m\n\u001b[0;32m    208\u001b[0m       \u001b[1;31m# Note: convert_to_eager_tensor currently raises a ValueError, not a\u001b[0m\u001b[1;33m\u001b[0m\u001b[1;33m\u001b[0m\u001b[1;33m\u001b[0m\u001b[0m\n",
      "\u001b[1;32m~\\AppData\\Roaming\\Python\\Python38\\site-packages\\tensorflow\\python\\ops\\math_ops.py\u001b[0m in \u001b[0;36msqrt\u001b[1;34m(x, name)\u001b[0m\n\u001b[0;32m   5084\u001b[0m     \u001b[0mA\u001b[0m\u001b[0;31m \u001b[0m\u001b[0;31m`\u001b[0m\u001b[0mtf\u001b[0m\u001b[1;33m.\u001b[0m\u001b[0mTensor\u001b[0m\u001b[0;31m`\u001b[0m \u001b[0mof\u001b[0m \u001b[0msame\u001b[0m \u001b[0msize\u001b[0m\u001b[1;33m,\u001b[0m \u001b[0mtype\u001b[0m \u001b[1;32mand\u001b[0m \u001b[0msparsity\u001b[0m \u001b[1;32mas\u001b[0m\u001b[0;31m \u001b[0m\u001b[0;31m`\u001b[0m\u001b[0mx\u001b[0m\u001b[0;31m`\u001b[0m\u001b[1;33m.\u001b[0m\u001b[1;33m\u001b[0m\u001b[1;33m\u001b[0m\u001b[0m\n\u001b[0;32m   5085\u001b[0m   \"\"\"\n\u001b[1;32m-> 5086\u001b[1;33m   \u001b[1;32mreturn\u001b[0m \u001b[0mgen_math_ops\u001b[0m\u001b[1;33m.\u001b[0m\u001b[0msqrt\u001b[0m\u001b[1;33m(\u001b[0m\u001b[0mx\u001b[0m\u001b[1;33m,\u001b[0m \u001b[0mname\u001b[0m\u001b[1;33m)\u001b[0m\u001b[1;33m\u001b[0m\u001b[1;33m\u001b[0m\u001b[0m\n\u001b[0m\u001b[0;32m   5087\u001b[0m \u001b[1;33m\u001b[0m\u001b[0m\n\u001b[0;32m   5088\u001b[0m \u001b[1;33m\u001b[0m\u001b[0m\n",
      "\u001b[1;32m~\\AppData\\Roaming\\Python\\Python38\\site-packages\\tensorflow\\python\\ops\\gen_math_ops.py\u001b[0m in \u001b[0;36msqrt\u001b[1;34m(x, name)\u001b[0m\n\u001b[0;32m  10210\u001b[0m       \u001b[1;32mpass\u001b[0m\u001b[1;33m\u001b[0m\u001b[1;33m\u001b[0m\u001b[0m\n\u001b[0;32m  10211\u001b[0m     \u001b[1;32mtry\u001b[0m\u001b[1;33m:\u001b[0m\u001b[1;33m\u001b[0m\u001b[1;33m\u001b[0m\u001b[0m\n\u001b[1;32m> 10212\u001b[1;33m       return sqrt_eager_fallback(\n\u001b[0m\u001b[0;32m  10213\u001b[0m           x, name=name, ctx=_ctx)\n\u001b[0;32m  10214\u001b[0m     \u001b[1;32mexcept\u001b[0m \u001b[0m_core\u001b[0m\u001b[1;33m.\u001b[0m\u001b[0m_SymbolicException\u001b[0m\u001b[1;33m:\u001b[0m\u001b[1;33m\u001b[0m\u001b[1;33m\u001b[0m\u001b[0m\n",
      "\u001b[1;32m~\\AppData\\Roaming\\Python\\Python38\\site-packages\\tensorflow\\python\\ops\\gen_math_ops.py\u001b[0m in \u001b[0;36msqrt_eager_fallback\u001b[1;34m(x, name, ctx)\u001b[0m\n\u001b[0;32m  10233\u001b[0m   \u001b[0m_inputs_flat\u001b[0m \u001b[1;33m=\u001b[0m \u001b[1;33m[\u001b[0m\u001b[0mx\u001b[0m\u001b[1;33m]\u001b[0m\u001b[1;33m\u001b[0m\u001b[1;33m\u001b[0m\u001b[0m\n\u001b[0;32m  10234\u001b[0m   \u001b[0m_attrs\u001b[0m \u001b[1;33m=\u001b[0m \u001b[1;33m(\u001b[0m\u001b[1;34m\"T\"\u001b[0m\u001b[1;33m,\u001b[0m \u001b[0m_attr_T\u001b[0m\u001b[1;33m)\u001b[0m\u001b[1;33m\u001b[0m\u001b[1;33m\u001b[0m\u001b[0m\n\u001b[1;32m> 10235\u001b[1;33m   _result = _execute.execute(b\"Sqrt\", 1, inputs=_inputs_flat, attrs=_attrs,\n\u001b[0m\u001b[0;32m  10236\u001b[0m                              ctx=ctx, name=name)\n\u001b[0;32m  10237\u001b[0m   \u001b[1;32mif\u001b[0m \u001b[0m_execute\u001b[0m\u001b[1;33m.\u001b[0m\u001b[0mmust_record_gradient\u001b[0m\u001b[1;33m(\u001b[0m\u001b[1;33m)\u001b[0m\u001b[1;33m:\u001b[0m\u001b[1;33m\u001b[0m\u001b[1;33m\u001b[0m\u001b[0m\n",
      "\u001b[1;32m~\\AppData\\Roaming\\Python\\Python38\\site-packages\\tensorflow\\python\\eager\\execute.py\u001b[0m in \u001b[0;36mquick_execute\u001b[1;34m(op_name, num_outputs, inputs, attrs, ctx, name)\u001b[0m\n\u001b[0;32m     73\u001b[0m           \u001b[1;34m\"Inputs to eager execution function cannot be Keras symbolic \"\u001b[0m\u001b[1;33m\u001b[0m\u001b[1;33m\u001b[0m\u001b[0m\n\u001b[0;32m     74\u001b[0m           \"tensors, but found {}\".format(keras_symbolic_tensors))\n\u001b[1;32m---> 75\u001b[1;33m     \u001b[1;32mraise\u001b[0m \u001b[0me\u001b[0m\u001b[1;33m\u001b[0m\u001b[1;33m\u001b[0m\u001b[0m\n\u001b[0m\u001b[0;32m     76\u001b[0m   \u001b[1;31m# pylint: enable=protected-access\u001b[0m\u001b[1;33m\u001b[0m\u001b[1;33m\u001b[0m\u001b[1;33m\u001b[0m\u001b[0m\n\u001b[0;32m     77\u001b[0m   \u001b[1;32mreturn\u001b[0m \u001b[0mtensors\u001b[0m\u001b[1;33m\u001b[0m\u001b[1;33m\u001b[0m\u001b[0m\n",
      "\u001b[1;32m~\\AppData\\Roaming\\Python\\Python38\\site-packages\\tensorflow\\python\\eager\\execute.py\u001b[0m in \u001b[0;36mquick_execute\u001b[1;34m(op_name, num_outputs, inputs, attrs, ctx, name)\u001b[0m\n\u001b[0;32m     57\u001b[0m   \u001b[1;32mtry\u001b[0m\u001b[1;33m:\u001b[0m\u001b[1;33m\u001b[0m\u001b[1;33m\u001b[0m\u001b[0m\n\u001b[0;32m     58\u001b[0m     \u001b[0mctx\u001b[0m\u001b[1;33m.\u001b[0m\u001b[0mensure_initialized\u001b[0m\u001b[1;33m(\u001b[0m\u001b[1;33m)\u001b[0m\u001b[1;33m\u001b[0m\u001b[1;33m\u001b[0m\u001b[0m\n\u001b[1;32m---> 59\u001b[1;33m     tensors = pywrap_tfe.TFE_Py_Execute(ctx._handle, device_name, op_name,\n\u001b[0m\u001b[0;32m     60\u001b[0m                                         inputs, attrs, num_outputs)\n\u001b[0;32m     61\u001b[0m   \u001b[1;32mexcept\u001b[0m \u001b[0mcore\u001b[0m\u001b[1;33m.\u001b[0m\u001b[0m_NotOkStatusException\u001b[0m \u001b[1;32mas\u001b[0m \u001b[0me\u001b[0m\u001b[1;33m:\u001b[0m\u001b[1;33m\u001b[0m\u001b[1;33m\u001b[0m\u001b[0m\n",
      "\u001b[1;31mTypeError\u001b[0m: An op outside of the function building code is being passed\na \"Graph\" tensor. It is possible to have Graph tensors\nleak out of the function building context by including a\ntf.init_scope in your function building code.\nFor example, the following function will fail:\n  @tf.function\n  def has_init_scope():\n    my_constant = tf.constant(1.)\n    with tf.init_scope():\n      added = my_constant * 2\nThe graph tensor has name: weight_loss/Identity:0"
     ]
    }
   ],
   "source": [
    "svdd, value = model.svdd_train()"
   ]
  },
  {
   "cell_type": "code",
   "execution_count": null,
   "id": "nervous-server",
   "metadata": {},
   "outputs": [],
   "source": [
    "value"
   ]
  },
  {
   "cell_type": "code",
   "execution_count": 93,
   "id": "funny-millennium",
   "metadata": {},
   "outputs": [],
   "source": [
    "encoder_part = Model(ae.get_layer('inputs').input, ae.get_layer('latent').output)"
   ]
  },
  {
   "cell_type": "code",
   "execution_count": 125,
   "id": "failing-metro",
   "metadata": {},
   "outputs": [
    {
     "data": {
      "text/plain": [
       "<matplotlib.collections.PathCollection at 0x1ed9a64d850>"
      ]
     },
     "execution_count": 125,
     "metadata": {},
     "output_type": "execute_result"
    },
    {
     "data": {
      "image/png": "[encoded data removed]",
      "text/plain": [
       "<Figure size 432x288 with 1 Axes>"
      ]
     },
     "metadata": {
      "needs_background": "light"
     },
     "output_type": "display_data"
    }
   ],
   "source": [
    "c = encoder_part.predict(train)\n",
    "plt.scatter(c[:,0], c[:,1])"
   ]
  },
  {
   "cell_type": "code",
   "execution_count": 14,
   "id": "bored-photograph",
   "metadata": {},
   "outputs": [],
   "source": [
    "from Data.Data_Loader import Data_Loader\n",
    "loader = Data_Loader(config)\n",
    "train, test = loader.svdd_mnist()\n",
    "#model.predict()"
   ]
  },
  {
   "cell_type": "code",
   "execution_count": 58,
   "id": "seventh-tattoo",
   "metadata": {},
   "outputs": [],
   "source": [
    "pre = svdd.predict(train)"
   ]
  },
  {
   "cell_type": "code",
   "execution_count": 23,
   "id": "outer-saying",
   "metadata": {},
   "outputs": [
    {
     "data": {
      "text/plain": [
       "1.4248506"
      ]
     },
     "execution_count": 23,
     "metadata": {},
     "output_type": "execute_result"
    }
   ],
   "source": [
    "value['c'][1]"
   ]
  },
  {
   "cell_type": "code",
   "execution_count": 39,
   "id": "imperial-majority",
   "metadata": {},
   "outputs": [],
   "source": [
    "normal_class = 1\n",
    "abnormal_class = 3\n",
    "\n",
    "batch_size = config['batch']\n",
    "(x_train, y_train), (x_test, y_test) = keras.datasets.mnist.load_data()\n",
    "x_train = np.reshape(x_train, (-1, 784)) / 255.0\n",
    "x_test = np.reshape(x_test, (-1, 784)) / 255.0\n",
    "\n",
    "x_train_normal = x_train[np.where(y_train == normal_class)]\n",
    "y_train_normal = y_train[np.where(y_train == normal_class)]\n",
    "\n",
    "x_test_normal_index = (y_test == normal_class)\n",
    "y_test_normal_index = (y_test == normal_class)\n",
    "x_test_abnormal_index = (y_test == abnormal_class)\n",
    "y_test_abnormal_index = (y_test == abnormal_class)\n",
    "\n",
    "y_test[y_test_normal_index] = 0 #normal_class\n",
    "y_test[y_test_abnormal_index] = 1 #abnormal_class\n",
    "\n",
    "x_test = x_test[x_test_normal_index | x_test_abnormal_index]\n",
    "y_test = y_test[y_test_normal_index | y_test_abnormal_index]\n"
   ]
  },
  {
   "cell_type": "code",
   "execution_count": 177,
   "id": "instructional-lloyd",
   "metadata": {},
   "outputs": [],
   "source": [
    "abnormal = x_test[np.where(y_test == 1)]\n",
    "normal = x_test[np.where(y_test == 0)]"
   ]
  },
  {
   "cell_type": "code",
   "execution_count": 108,
   "id": "naughty-vision",
   "metadata": {},
   "outputs": [],
   "source": [
    "normal_image=ae.predict(normal)\n",
    "abnormal_image = ae.predict(abnormal)"
   ]
  },
  {
   "cell_type": "code",
   "execution_count": 72,
   "id": "painted-scottish",
   "metadata": {},
   "outputs": [
    {
     "data": {
      "text/plain": [
       "(1010, 28, 28)"
      ]
     },
     "execution_count": 72,
     "metadata": {},
     "output_type": "execute_result"
    }
   ],
   "source": [
    "xx.shape"
   ]
  },
  {
   "cell_type": "code",
   "execution_count": 98,
   "id": "revised-charity",
   "metadata": {},
   "outputs": [],
   "source": [
    "a = encoder_part.predict(xx)\n",
    "b = encoder_part.predict(yy)"
   ]
  },
  {
   "cell_type": "code",
   "execution_count": 178,
   "id": "dated-compression",
   "metadata": {},
   "outputs": [
    {
     "data": {
      "text/plain": [
       "<matplotlib.collections.PathCollection at 0x1ed9a6fe8b0>"
      ]
     },
     "execution_count": 178,
     "metadata": {},
     "output_type": "execute_result"
    },
    {
     "data": {
      "image/png": "[encoded data removed]",
      "text/plain": [
       "<Figure size 432x288 with 1 Axes>"
      ]
     },
     "metadata": {
      "needs_background": "light"
     },
     "output_type": "display_data"
    }
   ],
   "source": [
    "plt.scatter(a[:,0], a[:,1], color = 'r')\n",
    "plt.scatter(b[:,1], b[:,1])"
   ]
  },
  {
   "cell_type": "code",
   "execution_count": 179,
   "id": "urban-claim",
   "metadata": {},
   "outputs": [],
   "source": [
    "pre = svdd.predict(x_train_normal)\n",
    "pre_a = svdd.predict(normal)\n",
    "pre_b = svdd.predict(abnormal)"
   ]
  },
  {
   "cell_type": "code",
   "execution_count": 181,
   "id": "foster-copper",
   "metadata": {},
   "outputs": [
    {
     "data": {
      "image/png": "[encoded data removed]",
      "text/plain": [
       "<Figure size 432x288 with 1 Axes>"
      ]
     },
     "metadata": {
      "needs_background": "light"
     },
     "output_type": "display_data"
    }
   ],
   "source": [
    "fig, ax = plt.subplots()\n",
    "#ax.scatter(value['c'][:,0], value['c'][:,1])\n",
    "#ax.scatter(pre[:,0], pre[:,1], color ='r')\n",
    "#ax.scatter(pre_a[:,0], pre_a[:,1], color ='black')\n",
    "#ax.scatter(pre_b[:,0], pre_b[:,1], color ='r')\n",
    "ax.scatter(value['c'][0], value['c'][1], s = 100)\n",
    "\n",
    "circle = plt.Circle((value['c'][0], value['c'][1]), value['R'], fill=False)\n",
    "ax.add_artist(circle)\n",
    "plt.show()"
   ]
  },
  {
   "cell_type": "code",
   "execution_count": 73,
   "id": "handy-logging",
   "metadata": {},
   "outputs": [
    {
     "data": {
      "text/plain": [
       "Model.simple_model.DeepSVDD"
      ]
     },
     "execution_count": 73,
     "metadata": {},
     "output_type": "execute_result"
    }
   ],
   "source": [
    "evaluation = Test(config, svdd, value)"
   ]
  },
  {
   "cell_type": "code",
   "execution_count": 90,
   "id": "electrical-curve",
   "metadata": {},
   "outputs": [],
   "source": [
    "x_test[x_test_normal_index].shape\n",
    "#x_test[x_test_abnormal_index].shape\n",
    "b = x_test[x_test_normal_index | x_test_abnormal_index].shape"
   ]
  },
  {
   "cell_type": "code",
   "execution_count": 93,
   "id": "peripheral-trading",
   "metadata": {},
   "outputs": [],
   "source": [
    "y_test[y_test_normal_index] = 0"
   ]
  },
  {
   "cell_type": "code",
   "execution_count": 94,
   "id": "instant-irrigation",
   "metadata": {},
   "outputs": [
    {
     "data": {
      "text/plain": [
       "array([0, 0, 0, ..., 0, 0, 0], dtype=uint8)"
      ]
     },
     "execution_count": 94,
     "metadata": {},
     "output_type": "execute_result"
    }
   ],
   "source": [
    "y_test[y_test_normal_index]"
   ]
  },
  {
   "cell_type": "code",
   "execution_count": 46,
   "id": "auburn-microphone",
   "metadata": {},
   "outputs": [],
   "source": [
    "a = svdd.predict(pretrain_train_dataset)\n",
    "b = svdd.predict(pretrain_test_dataset)\n",
    "c = svdd.predict(svdd_test_dataset)"
   ]
  },
  {
   "cell_type": "code",
   "execution_count": 47,
   "id": "inappropriate-ladder",
   "metadata": {},
   "outputs": [
    {
     "data": {
      "image/png": "[encoded data removed]",
      "text/plain": [
       "<Figure size 432x288 with 1 Axes>"
      ]
     },
     "metadata": {
      "needs_background": "light"
     },
     "output_type": "display_data"
    }
   ],
   "source": [
    "fig, ax = plt.subplots()\n",
    "ax.scatter(c[:,0], c[:,1])\n",
    "ax.scatter(a[:,0], a[:,1], color ='r')\n",
    "ax.scatter(center[0], center[1], s = 100)\n",
    "\n",
    "circle = plt.Circle((center[0], center[1]), R, fill=False)\n",
    "ax.add_artist(circle)\n",
    "plt.show()"
   ]
  },
  {
   "cell_type": "code",
   "execution_count": null,
   "id": "structured-international",
   "metadata": {},
   "outputs": [],
   "source": [
    "def gru_model(input_shape):\n",
    "    \"\"\" Timeseries Forecasting을 위한 GRU 기반 Model\n",
    "    \n",
    "    Parameters\n",
    "    ----------\n",
    "    input_shape : tuple, Input Tensor Shape (timelength, features)\n",
    "    \n",
    "    Returns\n",
    "    -------\n",
    "    Tensorflow Model\n",
    "    \"\"\"\n",
    "    \n",
    "    n_sensors = input_shape[1]\n",
    "    \n",
    "    model_inputs = Input(shape=input_shape, name=\"Inputs\")\n",
    "    \n",
    "    rnn = GRU(100, return_sequences=True)(model_inputs)\n",
    "    rnn = GRU(100, return_sequences=True)(rnn)\n",
    "    rnn = GRU(100, return_sequences=False)(rnn)\n",
    "    dense = Dense(200, activation=\"relu\")(rnn)\n",
    "    dense = Dense(n_sensors)(dense)\n",
    "\n",
    "    model_outputs = Reshape([1, -1])(dense)\n",
    "    \n",
    "    return Model(inputs=model_inputs, outputs=model_outputs)"
   ]
  },
  {
   "cell_type": "code",
   "execution_count": null,
   "id": "arbitrary-roads",
   "metadata": {},
   "outputs": [],
   "source": [
    "def model():\n",
    "    "
   ]
  }
 ],
 "metadata": {
  "kernelspec": {
   "display_name": "Python 3",
   "language": "python",
   "name": "python3"
  },
  "language_info": {
   "codemirror_mode": {
    "name": "ipython",
    "version": 3
   },
   "file_extension": ".py",
   "mimetype": "text/x-python",
   "name": "python",
   "nbconvert_exporter": "python",
   "pygments_lexer": "ipython3",
   "version": "3.8.8"
  }
 },
 "nbformat": 4,
 "nbformat_minor": 5
}
