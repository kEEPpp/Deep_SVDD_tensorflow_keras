{
 "cells": [
  {
   "cell_type": "code",
   "execution_count": 104,
   "id": "charming-virgin",
   "metadata": {},
   "outputs": [],
   "source": [
    "import os\n",
    "\n",
    "import matplotlib.pyplot as plt\n",
    "import numpy as np\n",
    "import tensorflow as tf\n",
    "import tensorflow_addons as tfa\n",
    "import pandas as pd\n",
    "\n",
    "from icecream import ic\n",
    "from sklearn.metrics import roc_auc_score\n",
    "from tqdm import tqdm\n",
    "from tensorflow import keras\n",
    "from tensorflow.keras.layers import *\n",
    "from tensorflow.keras import layers, losses\n",
    "#from tensorflow.keras import losses\n",
    "from tensorflow.keras.models import Model"
   ]
  },
  {
   "cell_type": "markdown",
   "id": "beautiful-blast",
   "metadata": {},
   "source": [
    "# Load Data"
   ]
  },
  {
   "cell_type": "code",
   "execution_count": 64,
   "id": "greenhouse-experience",
   "metadata": {},
   "outputs": [],
   "source": [
    "class Data_Loader():\n",
    "    def __init__(type_of_data, one_class = True, one_class_data = 1):\n",
    "        self.type_of_data = type_of_data\n",
    "        self.one_class = one_class\n",
    "        self.one_class_data = one_class_data\n",
    "        \n",
    "    def get_data(self):\n",
    "        if self.type_of_data(self):\n",
    "            self.mnist()\n",
    "\n",
    "    \n",
    "    def mnist(self):\n",
    "        \n",
    "        if self.one_class:\n",
    "            batch_size = 64\n",
    "            (x_train, y_train), (x_test, y_test) = keras.datasets.mnist.load_data()\n",
    "            x_train = np.reshape(x_train, (-1, 784)) / 255.0\n",
    "            x_test = np.reshape(x_test, (-1, 784)) / 255.0\n",
    "            \n",
    "            x_train_one_class = x_train[y_train == self.one_class_data]\n",
    "            y_train_one_class = y_train[y_train == self.one_class_data]\n",
    "            \n",
    "            x_test_one_class = x_test[y_test == self.one_class_data]\n",
    "            y_test_one_class = y_test[y_test == self.one_class_data]\n",
    "\n",
    "            train_dataset = tf.data.Dataset.from_tensor_slices((x_train_one_class, x_train_one_class))\n",
    "            train_dataset = train_dataset.shuffle(buffer_size=1024).batch(batch_size)\n",
    "\n",
    "            test_dataset = tf.data.Dataset.from_tensor_slices((x_test, x_test))\n",
    "            test_dataset = test_dataset.shuffle(buffer_size=1024).batch(batch_size)\n",
    "\n",
    "            return train_dataset, test_dataset\n",
    "\n",
    "        else:\n",
    "            batch_size = 64\n",
    "            (x_train, y_train), (x_test, y_test) = keras.datasets.mnist.load_data()\n",
    "            x_train = np.reshape(x_train, (-1, 784)) / 255.0\n",
    "            x_test = np.reshape(x_test, (-1, 784)) / 255.0\n",
    "\n",
    "            train_dataset = tf.data.Dataset.from_tensor_slices((x_train, x_train))\n",
    "            train_dataset = train_dataset.shuffle(buffer_size=1024).batch(batch_size)\n",
    "\n",
    "            test_dataset = tf.data.Dataset.from_tensor_slices((x_test, x_test))\n",
    "            test_dataset = test_dataset.shuffle(buffer_size=1024).batch(batch_size)\n",
    "\n",
    "            return train_dataset, test_dataset\n",
    "        \n",
    "        \n",
    "    "
   ]
  },
  {
   "cell_type": "code",
   "execution_count": 2,
   "id": "tutorial-possible",
   "metadata": {},
   "outputs": [
    {
     "name": "stdout",
     "output_type": "stream",
     "text": [
      "Downloading data from https://storage.googleapis.com/tensorflow/tf-keras-datasets/mnist.npz\n",
      "11493376/11490434 [==============================] - 0s 0us/step\n"
     ]
    }
   ],
   "source": [
    "mnist = tf.keras.datasets.mnist\n",
    "\n",
    "(x_train, y_train), (x_test, y_test) = mnist.load_data()\n",
    "\n",
    "(x_train, y_train), (x_test, y_test) = tf.keras.datasets.mnist.load_data()\n",
    "\n",
    "#x_train = x_train.reshape(60000, 784).astype(\"float32\") / 255\n",
    "#x_test = x_test.reshape(10000, 784).astype(\"float32\") / 255\n",
    "\n",
    "x_train = x_train.reshape(60000, 784) / 255.0\n",
    "x_test = x_test.reshape(10000, 784) / 255.0\n",
    "\n",
    "y_train = y_train.reshape(60000,1)\n",
    "y_test = y_test.reshape(10000,1)\n",
    "#x_train, x_test = x_train / 255.0, x_test / 255.0"
   ]
  },
  {
   "cell_type": "markdown",
   "id": "numerical-concept",
   "metadata": {},
   "source": [
    "# AE dataset"
   ]
  },
  {
   "cell_type": "code",
   "execution_count": 86,
   "id": "quality-paste",
   "metadata": {},
   "outputs": [],
   "source": [
    "batch_size = 64\n",
    "normal_index = 1\n",
    "\n",
    "(x_train, y_train), (x_test, y_test) = keras.datasets.mnist.load_data()\n",
    "x_train = np.reshape(x_train, (-1, 784)) / 255.0\n",
    "x_test = np.reshape(x_test, (-1, 784)) / 255.0\n",
    "\n",
    "x_train = x_train[np.where(y_train == normal_index)]\n",
    "y_train = y_train[np.where(y_train == normal_index)]\n",
    "\n",
    "#normal_index = np.where(y_test == normal_index)\n",
    "#abnormal_index = np.where(y_test != normal_index)\n",
    "\n",
    "normal_index = (y_test == normal_index)\n",
    "abnormal_index = (y_test != normal_index)\n",
    "\n",
    "y_test[normal_index] = 0 #normal cass\n",
    "y_test[abnormal_index] = 1 #abnormal class\n",
    "\n",
    "train_dataset = tf.data.Dataset.from_tensor_slices((x_train, x_train))\n",
    "train_dataset = train_dataset.shuffle(buffer_size=1024).batch(batch_size)\n",
    "\n",
    "test_dataset = tf.data.Dataset.from_tensor_slices((x_test, y_test))\n",
    "test_dataset = test_dataset.shuffle(buffer_size=1024).batch(batch_size)"
   ]
  },
  {
   "cell_type": "markdown",
   "id": "welsh-absorption",
   "metadata": {},
   "source": [
    "# SVDD Dataset"
   ]
  },
  {
   "cell_type": "code",
   "execution_count": 162,
   "id": "bearing-assessment",
   "metadata": {},
   "outputs": [],
   "source": [
    "batch_size = 16\n",
    "normal_index = 1\n",
    "\n",
    "(x_train, y_train), (x_test, y_test) = keras.datasets.mnist.load_data()\n",
    "x_train = np.reshape(x_train, (-1, 784)) / 255.0\n",
    "x_test = np.reshape(x_test, (-1, 784)) / 255.0\n",
    "\n",
    "x_train = x_train[np.where(y_train == normal_index)]\n",
    "y_train = y_train[np.where(y_train == normal_index)]\n",
    "\n",
    "#normal_index = np.where(y_test == normal_index)\n",
    "#abnormal_index = np.where(y_test != normal_index)\n",
    "\n",
    "normal_index = (y_test == normal_index)\n",
    "abnormal_index = (y_test != normal_index)\n",
    "\n",
    "y_test[normal_index] = 0 #normal cass\n",
    "y_test[abnormal_index] = 1 #abnormal class\n",
    "\n",
    "train_dataset = tf.data.Dataset.from_tensor_slices((x_train, y_train))\n",
    "train_dataset = train_dataset.shuffle(buffer_size=1024).batch(batch_size)\n",
    "\n",
    "test_dataset = tf.data.Dataset.from_tensor_slices((x_test, y_test))\n",
    "test_dataset = test_dataset.shuffle(buffer_size=1024).batch(batch_size)"
   ]
  },
  {
   "cell_type": "markdown",
   "id": "satisfactory-bedroom",
   "metadata": {},
   "source": [
    "# Define Model"
   ]
  },
  {
   "cell_type": "code",
   "execution_count": 3,
   "id": "responsible-liberty",
   "metadata": {},
   "outputs": [],
   "source": [
    "# class Deep_SVDD(Model):\n",
    "#     def __init__(self, hidden1, hidden2, latent, input_dim):\n",
    "#         super(Deep_SVDD, self).__init__()\n",
    "# #         self.encoder_layer1 = layers.Dense(hidden1, activation = 'relu')\n",
    "# #         self.encoder_layer2 = layers.Dense(hidden2, activation = 'relu')\n",
    "\n",
    "# #         self.latent = layers.Dense(latent, activation = 'relu')\n",
    "\n",
    "# #         self.decoder_layer1 = layers.Dense(hidden2, activation = 'relu')\n",
    "# #         self.decoder_layer2 = layers.Dense(hidden1, activation = 'relu')\n",
    "        \n",
    "#         self.encoder = tf.keras.Sequential([\n",
    "#             layers.Dense(hidden1, activation='relu'),\n",
    "#             layers.Dense(hidden2, activation='relu')\n",
    "#         ])\n",
    "        \n",
    "#         self.latent = layers.Dense(latent, activation = 'relu')\n",
    "        \n",
    "#         self.decoder = tf.keras.Sequential([\n",
    "#             layers.Dense(hidden2, activation='relu'),\n",
    "#             layers.Dense(hidden1, activation='linear'),\n",
    "#         ])\n",
    "        \n",
    "#         self.input_dim = input_dim\n",
    "#         self.input_layer = layers.Input(shape = input_dim)\n",
    "#         self.output_layer = self.call(self.input_layer)\n",
    "#         self.c = 0\n",
    "    \n",
    "#     def build_graph(self):\n",
    "#         inputs_ = layers.Input(shape = self.input_dim)\n",
    "#         return Model(inputs=inputs_, outputs=self.call(inputs_))\n",
    "#         #self._init_graph_network(inputs=self.input_layer,outputs=self.out)\n",
    "    \n",
    "#     def center_point(self):\n",
    "#         #self.c += self.latent\n",
    "#         pass\n",
    "#     #def build(self):\n",
    "#     #    self._is_graph_network = True\n",
    "#     #      self._init_graph_network(inputs=self.input_layer,outputs=self.output_layer)\n",
    "\n",
    "#     def call(self, input_data):\n",
    "#         x = self.encoder(input_data)\n",
    "#         x = self.latent(x)\n",
    "#         x = self.decoder(x)\n",
    "        \n",
    "#         #return Model(input_data, x)\n",
    "#         return x"
   ]
  },
  {
   "cell_type": "code",
   "execution_count": 66,
   "id": "scenic-airplane",
   "metadata": {},
   "outputs": [],
   "source": [
    "class Pretrain_AutoEncoder(Model):\n",
    "    def __init__(self, hidden1, hidden2, latent, input_dim):\n",
    "        super(Pretrain_AutoEncoder, self).__init__()\n",
    "        self.input_dim = input_dim\n",
    "        \n",
    "        self.encoder_layer1 = layers.Dense(hidden1, activation = 'relu', name='encoder1')\n",
    "        self.encoder_layer2 = layers.Dense(hidden2, activation = 'relu', name='encoder2')\n",
    "\n",
    "        self.latent = layers.Dense(latent, activation = 'relu', name='latent')\n",
    "\n",
    "        self.decoder_layer1 = layers.Dense(hidden2, activation = 'relu', name='decoder1')\n",
    "        self.decoder_layer2 = layers.Dense(hidden1, activation = 'relu', name='decoder2')\n",
    "        self.outputs = layers.Dense(self.input_dim, activation = 'relu', name = 'outputs')\n",
    "#         self.encoder = tf.keras.Sequential([\n",
    "#             layers.Dense(hidden1, activation='relu'),\n",
    "#             layers.Dense(hidden2, activation='relu')\n",
    "#         ])\n",
    "        \n",
    "        #self.latent = layers.Dense(latent, activation = 'relu')\n",
    "        \n",
    "#         self.decoder = tf.keras.Sequential([\n",
    "#             layers.Dense(hidden2, activation='relu'),\n",
    "#             layers.Dense(hidden1, activation='linear'),\n",
    "#         ])\n",
    "        \n",
    "    \n",
    "    def build_graph(self):\n",
    "        inputs_ = layers.Input(shape=self.input_dim, name = 'inputs')\n",
    "        return Model(inputs=inputs_, outputs=self.call(inputs_))\n",
    "        #self._init_graph_network(inputs=self.input_layer,outputs=self.out)\n",
    "    \n",
    "    def call(self, input_data):\n",
    "#         x = self.encoder(input_data)\n",
    "#         x = self.latent(x)\n",
    "#         x = self.decoder(x)\n",
    "        x = self.encoder_layer1(input_data)\n",
    "        x = self.encoder_layer2(x)\n",
    "        x = self.latent(x)\n",
    "        x = self.decoder_layer1(x)\n",
    "        x = self.decoder_layer2(x)\n",
    "        x = self.outputs(x)\n",
    "        \n",
    "        return x"
   ]
  },
  {
   "cell_type": "code",
   "execution_count": 67,
   "id": "considered-germany",
   "metadata": {},
   "outputs": [],
   "source": [
    "class DeepSVDD(Model):\n",
    "    def __init__(self, hidden1, hidden2, latent, input_dim):\n",
    "        super(DeepSVDD, self).__init__()\n",
    "        self.encoder_layer1 = layers.Dense(hidden1, activation = 'relu', name='encoder1')\n",
    "        self.encoder_layer2 = layers.Dense(hidden2, activation = 'relu', name='encoder2')\n",
    "\n",
    "        self.latent = layers.Dense(latent, activation = 'relu', name='latent')\n",
    "        \n",
    "        self.input_dim = input_dim\n",
    "#         self.encoder = tf.keras.Sequential([\n",
    "#             layers.Dense(hidden1, activation='relu'),\n",
    "#             layers.Dense(hidden2, activation='relu')\n",
    "#         ])\n",
    "        \n",
    "#         self.latent = layers.Dense(latent, activation = 'relu')\n",
    "        \n",
    "#         self.input_dim = input_dim\n",
    "#         self.input_layer = layers.Input(shape = input_dim)\n",
    "#         self.output_layer = self.call(self.input_layer)\n",
    "    \n",
    "    def build_graph(self):\n",
    "        inputs_ = layers.Input(shape = self.input_dim, name = 'inputs')\n",
    "        return Model(inputs=inputs_, outputs=self.call(inputs_))\n",
    "        #self._init_graph_network(inputs=self.input_layer,outputs=self.out)\n",
    "    \n",
    "    def call(self, input_data):\n",
    "        x = self.encoder_layer1(input_data)\n",
    "        x = self.encoder_layer2(x)\n",
    "        x = self.latent(x)\n",
    "        #return Model(input_data, x)\n",
    "        return x"
   ]
  },
  {
   "cell_type": "code",
   "execution_count": 26,
   "id": "agreed-hobby",
   "metadata": {},
   "outputs": [
    {
     "data": {
      "text/plain": [
       "'.pretrain_weight\\\\'"
      ]
     },
     "execution_count": 26,
     "metadata": {},
     "output_type": "execute_result"
    }
   ],
   "source": [
    "pretrain_weight_path = ['.', 'pretrain_weight']\n",
    "pretrain_weight_path = '.pretrain_weight'\n",
    "os.path.join(pretrain_weight_path) + '\\\\'"
   ]
  },
  {
   "cell_type": "code",
   "execution_count": 41,
   "id": "sorted-massachusetts",
   "metadata": {},
   "outputs": [
    {
     "data": {
      "text/plain": [
       "'C:\\\\Users\\\\HYKP\\\\PycharmProjects\\\\bistel\\\\Deep_SVDD\\\\pretrain_weight_path\\\\{epoch:03d}_{val_loss:.4f}.hdf5'"
      ]
     },
     "execution_count": 41,
     "metadata": {},
     "output_type": "execute_result"
    }
   ],
   "source": [
    "os.path.join(os.path.abspath('.'), 'pretrain_weight_path', '{epoch:03d}_{val_loss:.4f}.hdf5')"
   ]
  },
  {
   "cell_type": "code",
   "execution_count": 42,
   "id": "handmade-sierra",
   "metadata": {},
   "outputs": [
    {
     "data": {
      "text/plain": [
       "'C:\\\\Users\\\\HYKP\\\\PycharmProjects\\\\bistel\\\\Deep_SVDD\\\\pretrain_weight_path'"
      ]
     },
     "execution_count": 42,
     "metadata": {},
     "output_type": "execute_result"
    }
   ],
   "source": [
    "os.path.join(os.path.abspath('.'), 'pretrain_weight_path')"
   ]
  },
  {
   "cell_type": "code",
   "execution_count": 39,
   "id": "linear-indie",
   "metadata": {},
   "outputs": [
    {
     "data": {
      "text/plain": [
       "'a: 0.12'"
      ]
     },
     "execution_count": 39,
     "metadata": {},
     "output_type": "execute_result"
    }
   ],
   "source": [
    "a = 0.123213213213213213\n",
    "f\"a: {a:.2f}\""
   ]
  },
  {
   "cell_type": "code",
   "execution_count": 195,
   "id": "further-collection",
   "metadata": {},
   "outputs": [],
   "source": [
    "MODEL_SAVE_DIR_PATH = os.path.join(os.path.abspath('.'), 'pretrain_weight') # '.\\\\pretrain_weight\\\\'"
   ]
  },
  {
   "cell_type": "code",
   "execution_count": 230,
   "id": "sweet-costume",
   "metadata": {},
   "outputs": [
    {
     "name": "stdout",
     "output_type": "stream",
     "text": [
      "123\n"
     ]
    }
   ],
   "source": [
    "a = ae\n",
    "if a:\n",
    "    print(123)"
   ]
  },
  {
   "cell_type": "code",
   "execution_count": 215,
   "id": "ordered-silly",
   "metadata": {},
   "outputs": [],
   "source": [
    "MODEL_SAVE_DIR_PATH = os.path.join(os.path.abspath('.'), 'pretrain_weight') # '.\\\\pretrain_weight\\\\'\n",
    "\n",
    "class Trainer:\n",
    "    def __init__(self, args, pretrain_model, svdd_model, train, test):\n",
    "        self.args = args\n",
    "        \n",
    "        if pretrain_model:\n",
    "            self.pretrain_model = pretrain_model\n",
    "        self.svdd_model = svdd_model\n",
    "        \n",
    "        self.train_datasets = train\n",
    "        self.test_datasets = test\n",
    "        #self.x_train = train[0]\n",
    "        #self.y_train = train[1]\n",
    "        \n",
    "        #self.x_test = test[0]\n",
    "        #self.y_test = test[1]\n",
    "        \n",
    "    \n",
    "    def start_check(self):\n",
    "        if not os.path.exists('pretrain_weight'):\n",
    "            os.mkdir('pretrain_weight')\n",
    "        \n",
    "    def pretrain_ae(self):\n",
    "        #ae = Pretrain_AutoEncoder(350, 50, 2, 784).build_graph()\n",
    "        ae = self.pretrain_model.build_graph()\n",
    "        loss_object=tf.keras.losses.MeanSquaredError() #SVDD\n",
    "        #loss_object = tf.keras.losses.SparseCategoricalCrossentropy() #mnist\n",
    "        optimizer = tf.keras.optimizers.Adam()\n",
    "        \n",
    "        #ae.compile(optimizer=optimizer, loss=loss_object, metrics=['mae']) #SVDD\n",
    "        ae.compile(optimizer=optimizer, loss=loss_object, metrics=['mae']) #mnist\n",
    "        #hist = ae.fit(x=self.x_train, y=self.x_train, batch_size=self.args['batch'], validation_split=0.2, epochs=self.args['epochs'])\n",
    "        hist = ae.fit(self.train_datasets, epochs=self.args['epochs'])\n",
    "        \n",
    "        encoder_part = Model(ae.get_layer('inputs').input, ae.get_layer('latent').output)\n",
    "        self.save_weights_pretrain(encoder_part)\n",
    "        \n",
    "        #encoder_part.save_weights(os.path.join(MODEL_SAVE_DIR_PATH, 'pretrain_ae.hdf5'))\n",
    "        \n",
    "        return hist\n",
    "\n",
    "    \n",
    "    def save_weights_pretrain(self, model):\n",
    "        \"\"\"학습된 AutoEncoder 가중치를 DeepSVDD모델에 Initialize해주는 함수\"\"\"\n",
    "        #c = self.set_c()\n",
    "        model.save_weights(os.path.join(MODEL_SAVE_DIR_PATH, 'pretrain_ae.hdf5')) #model save\n",
    "        \n",
    "\n",
    "    def set_c(self, eps=0.1):\n",
    "        \"\"\"Initializing the center for the hypersphere\"\"\"\n",
    "        model = self.svdd_model.build_graph()\n",
    "        if self.args['pretrain'] == True:\n",
    "            model.load_weights(os.path.join(MODEL_SAVE_DIR_PATH, 'pretrain_ae.hdf5'))\n",
    "        \n",
    "        \n",
    "        #x_train = tf.data.Dataset.from_tensor_slices(self.x_train)\n",
    "        #x_train = x_train.shuffle(buffer_size=1024).batch(64)        \n",
    "        \n",
    "        z_list = []\n",
    "        z_list_temp = []\n",
    "        #new = np.array_split(x_train, 938, axis = 0)\n",
    "        #for k, x in enumerate(x_train):\n",
    "        #    z_list.append(model.predict(x))\n",
    "        z_list = []\n",
    "        for (x_train_batch, _) in self.train_datasets:          \n",
    "            z = model.predict(x_train_batch)\n",
    "            z_list.append(z)\n",
    "        z_list = np.concatenate(z_list)\n",
    "        c = z_list.mean(axis = 0)\n",
    "        #c = z.mean(axis = 0)\n",
    "        c[(abs(c) < eps) & (c < 0)] = -eps #avoid trivial solution that c = 0 is trivial solution\n",
    "        c[(abs(c) < eps) & (c > 0)] = eps\n",
    "        \n",
    "        return c\n",
    "\n",
    "    \n",
    "    def radius_loss(y_true, y_pred):\n",
    "        pass\n",
    "    \n",
    "    #def weight_loss(model):\n",
    "    def weight_loss(self, y_true, y_pred):\n",
    "        self.dist_op = tf.reduce_sum(tf.square(y_pred - self.c), axis = -1)\n",
    "        score_op = self.dist_op - self.R ** 2\n",
    "        penalty = tf.maximum(score_op, tf.zeros_like(score_op))\n",
    "        loss_op = self.R ** 2 + (1 / self.nu) * penalty\n",
    "        return loss_op\n",
    "        #return weight_loss_\n",
    "    \n",
    "    def train_deep_svdd(self):\n",
    "        model = self.svdd_model.build_graph()\n",
    "        self.c = 0.1\n",
    "        self.R = 0.0\n",
    "        self.nu = 0.1\n",
    "        if self.args['pretrain']:\n",
    "            model.load_weights(os.path.join(MODEL_SAVE_DIR_PATH, 'pretrain_ae.hdf5'))\n",
    "            self.c = self.set_c() # need to compare between inference time and laod time \n",
    "        \n",
    "        \n",
    "        \"\"\"training code\"\"\"\n",
    "        wd = self.args['weight_decay']\n",
    "        #loss_object = tf.keras.losses.SparseCategoricalCrossentropy()\n",
    "        #loss_object = self.weight_loss()\n",
    "        #optimizer = tf.keras.optimizers.Adam()\n",
    "        optimizer = tfa.optimizers.AdamW(weight_decay = wd)\n",
    "        \n",
    "        train_loss = tf.keras.metrics.Mean(name='train_loss')\n",
    "        train_accuracy = tf.keras.metrics.SparseCategoricalAccuracy(name='train_accuracy')\n",
    "        \n",
    "        epochs = self.args['epochs']\n",
    "        for epoch in range(epochs):\n",
    "            print(f\"Start of epoch {epoch+1}\")\n",
    "\n",
    "            # Iterate over the batches of the dataset.\n",
    "            for step, (x_batch_train, y_batch_train) in enumerate(self.train_datasets):\n",
    "                with tf.GradientTape() as tape:\n",
    "                    reconstructed = model(x_batch_train)\n",
    "                    # Compute reconstruction loss\n",
    "                    loss = self.weight_loss(y_batch_train, reconstructed)\n",
    "\n",
    "                grads = tape.gradient(loss, model.trainable_weights)\n",
    "                optimizer.apply_gradients(zip(grads, model.trainable_weights))\n",
    "#                grads = tape.gradient(loss, model)\n",
    "#                optimizer.apply_gradients(zip(grads, model))\n",
    "\n",
    "                \n",
    "                train_loss(loss)\n",
    "                if (step+1) % 50 == 0:\n",
    "                    print(f\"step {step+1}: mean loss = {train_loss.result():.4f}\")\n",
    "                if (epoch+1) % 5 == 0:\n",
    "                    self.R = self.get_R(self.dist_op, self.nu)\n",
    "\n",
    "                #if step % 10 == 0:\n",
    "        return model, self.R\n",
    "            \n",
    "    \n",
    "    def get_R(self):\n",
    "        return np.quantile(np.sqrt(self.dist_op.numpy()), 1 - self.nu)\n",
    "\n",
    "    def deep_svdd_train(self):\n",
    "        pass\n",
    "        \n",
    "            \n",
    "        \n",
    "  \n",
    "    def eval_step(self):\n",
    "        pass\n",
    "        #prediction = "
   ]
  },
  {
   "cell_type": "code",
   "execution_count": 186,
   "id": "computational-vocabulary",
   "metadata": {},
   "outputs": [],
   "source": [
    "#svdd = Pretrain_AutoEncoder(500, 350, 2, 784)\n",
    "#svdd.build((None,784))"
   ]
  },
  {
   "cell_type": "code",
   "execution_count": 187,
   "id": "surprised-rates",
   "metadata": {},
   "outputs": [],
   "source": [
    "#svdd.summary()"
   ]
  },
  {
   "cell_type": "code",
   "execution_count": 188,
   "id": "automated-persian",
   "metadata": {
    "tags": []
   },
   "outputs": [],
   "source": [
    "#os.environ[\"PATH\"] += os.pathsep + \"C:/Program Files/Graphviz/bin/\"\n",
    "#tf.keras.utils.plot_model(svdd.build_graph(), show_shapes=True, show_layer_names=True, rankdir='TB', dpi=100, expand_nested=True)"
   ]
  },
  {
   "cell_type": "code",
   "execution_count": 189,
   "id": "developing-anime",
   "metadata": {
    "tags": []
   },
   "outputs": [],
   "source": [
    "#svdd.build_graph().summary()"
   ]
  },
  {
   "cell_type": "code",
   "execution_count": 216,
   "id": "thick-watch",
   "metadata": {},
   "outputs": [],
   "source": [
    "args = {'epochs':2,\n",
    "       'batch': 64,\n",
    "       'pretrain':True,\n",
    "       'tensorflow_data_type':False,\n",
    "       'weight_decay': 1e-6}\n",
    "\n",
    "ae = Pretrain_AutoEncoder(500, 350, 2, 784)\n",
    "svdd = DeepSVDD(500, 350, 2, 784)\n",
    "\n",
    "#trainer = Trainer(args, pretrain_model=ae, svdd_model=svdd, train=[x_train, x_train], test = [x_test, x_test])\n",
    "trainer = Trainer(args, pretrain_model=ae, svdd_model=svdd, train=train_dataset, test = test_dataset)\n",
    "trainer.start_check()"
   ]
  },
  {
   "cell_type": "code",
   "execution_count": 217,
   "id": "liberal-hypothesis",
   "metadata": {
    "tags": []
   },
   "outputs": [
    {
     "name": "stdout",
     "output_type": "stream",
     "text": [
      "Epoch 1/2\n",
      "422/422 [==============================] - 2s 5ms/step - loss: 0.3349 - mae: 0.3803\n",
      "Epoch 2/2\n",
      "422/422 [==============================] - 2s 5ms/step - loss: 0.2811 - mae: 0.2934\n"
     ]
    }
   ],
   "source": [
    "hist = trainer.pretrain_ae()"
   ]
  },
  {
   "cell_type": "code",
   "execution_count": 218,
   "id": "combined-hospital",
   "metadata": {
    "tags": []
   },
   "outputs": [
    {
     "name": "stdout",
     "output_type": "stream",
     "text": [
      "Start of epoch 1\n",
      "step 50: mean loss = 0.2676\n",
      "step 100: mean loss = 0.1962\n",
      "step 150: mean loss = 0.1990\n",
      "step 200: mean loss = 0.1895\n",
      "step 250: mean loss = 0.1781\n",
      "step 300: mean loss = 0.1687\n",
      "step 350: mean loss = 0.1631\n",
      "step 400: mean loss = 0.1597\n",
      "Start of epoch 2\n",
      "step 50: mean loss = 0.1465\n",
      "step 100: mean loss = 0.1386\n",
      "step 150: mean loss = 0.1371\n",
      "step 200: mean loss = 0.1344\n",
      "step 250: mean loss = 0.1304\n",
      "step 300: mean loss = 0.1258\n",
      "step 350: mean loss = 0.1285\n",
      "step 400: mean loss = 0.1251\n"
     ]
    }
   ],
   "source": [
    "svdd, R = trainer.train_deep_svdd()"
   ]
  },
  {
   "cell_type": "code",
   "execution_count": 226,
   "id": "beneficial-plymouth",
   "metadata": {},
   "outputs": [],
   "source": [
    "trains = svdd.predict(train_dataset)\n",
    "tests = svdd.predict(test_dataset)"
   ]
  },
  {
   "cell_type": "code",
   "execution_count": 220,
   "id": "dried-circular",
   "metadata": {},
   "outputs": [
    {
     "data": {
      "text/plain": [
       "array([1.1111792, 2.3639395], dtype=float32)"
      ]
     },
     "execution_count": 220,
     "metadata": {},
     "output_type": "execute_result"
    }
   ],
   "source": [
    "center_point = trainer.set_c()\n",
    "center_point"
   ]
  },
  {
   "cell_type": "code",
   "execution_count": 221,
   "id": "little-corruption",
   "metadata": {},
   "outputs": [
    {
     "data": {
      "text/plain": [
       "(10000, 2)"
      ]
     },
     "execution_count": 221,
     "metadata": {},
     "output_type": "execute_result"
    }
   ],
   "source": [
    "pre.shape"
   ]
  },
  {
   "cell_type": "code",
   "execution_count": 222,
   "id": "civic-funds",
   "metadata": {},
   "outputs": [
    {
     "data": {
      "text/plain": [
       "0.0"
      ]
     },
     "execution_count": 222,
     "metadata": {},
     "output_type": "execute_result"
    }
   ],
   "source": [
    "R"
   ]
  },
  {
   "cell_type": "code",
   "execution_count": 234,
   "id": "supposed-paragraph",
   "metadata": {},
   "outputs": [
    {
     "data": {
      "text/plain": [
       "<matplotlib.collections.PathCollection at 0x2b635c1c040>"
      ]
     },
     "execution_count": 234,
     "metadata": {},
     "output_type": "execute_result"
    },
    {
     "data": {
      "image/png": "[encoded data removed]",
      "text/plain": [
       "<Figure size 432x288 with 1 Axes>"
      ]
     },
     "metadata": {
      "needs_background": "light"
     },
     "output_type": "display_data"
    }
   ],
   "source": [
    "plt.scatter(trains[:,0], trains[:,1], color = 'r')\n",
    "plt.scatter(center_point[0], center_point[1], s = 100)\n",
    "plt.scatter(tests[:,0], tests[:,1], color = 'b', alpha = 0.02)"
   ]
  },
  {
   "cell_type": "code",
   "execution_count": null,
   "id": "disturbed-particular",
   "metadata": {},
   "outputs": [],
   "source": []
  }
 ],
 "metadata": {
  "kernelspec": {
   "display_name": "Python 3",
   "language": "python",
   "name": "python3"
  },
  "language_info": {
   "codemirror_mode": {
    "name": "ipython",
    "version": 3
   },
   "file_extension": ".py",
   "mimetype": "text/x-python",
   "name": "python",
   "nbconvert_exporter": "python",
   "pygments_lexer": "ipython3",
   "version": "3.8.8"
  }
 },
 "nbformat": 4,
 "nbformat_minor": 5
}
