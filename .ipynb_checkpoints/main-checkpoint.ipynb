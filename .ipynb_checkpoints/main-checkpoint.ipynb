{
 "cells": [
  {
   "cell_type": "code",
   "execution_count": 59,
   "id": "simplified-australian",
   "metadata": {
    "jupyter": {
     "source_hidden": true
    },
    "tags": []
   },
   "outputs": [],
   "source": [
    "import os\n",
    "\n",
    "import matplotlib.pyplot as plt\n",
    "import numpy as np\n",
    "import tensorflow as tf\n",
    "import tensorflow_addons as tfa\n",
    "import pandas as pd\n",
    "\n",
    "from icecream import ic\n",
    "from sklearn.metrics import roc_auc_score\n",
    "from tqdm import tqdm\n",
    "from tensorflow import keras\n",
    "from tensorflow.keras.layers import *\n",
    "from tensorflow.keras import layers, losses\n",
    "# from tensorflow.keras import lossesf\n",
    "from tensorflow.keras.models import Model\n",
    "\n",
    "from Data.Data_Loader import Data_Loader\n",
    "from Model.simple_model import Pretrain_AutoEncoder\n",
    "from Model.simple_model import DeepSVDD\n",
    "\n",
    "MODEL_SAVE_DIR_PATH = os.path.abspath('pretrain_weight')\n",
    "\n",
    "\n",
    "class Train:\n",
    "    def __init__(self, config: dict, latent_dim, input_dim):\n",
    "        self.config = config\n",
    "        self.pretrain_ae = Pretrain_AutoEncoder(latent_dim=latent_dim, input_dim=input_dim)\n",
    "        self.svdd = DeepSVDD(latent_dim=latent_dim, input_dim=input_dim)\n",
    "        self.value = {'c': config['c'],\n",
    "                      'R': config['R'],\n",
    "                      'nu': config['nu']}\n",
    "        self.latent_dim = latent_dim\n",
    "        self.input_dim = input_dim\n",
    "        self.dist_op = 0.0\n",
    "        self.data_loader = Data_Loader(self.config)\n",
    "        self.check()\n",
    "\n",
    "    # weight 저장 폴더 생성\n",
    "    def check(self):\n",
    "        if not os.path.exists('pretrain_weight'):\n",
    "            os.mkdir('pretrain_weight')\n",
    "\n",
    "    def pretrain(self):\n",
    "        ae = self.pretrain_ae.build_graph()\n",
    "        train_dataset_pre, test_dataset_pre = self.data_loader.pretrain_mnist()\n",
    "        loss_object = tf.keras.losses.MeanSquaredError()\n",
    "        optimizer = tf.keras.optimizers.Adam()\n",
    "\n",
    "        ae.compile(optimizer=optimizer, loss=loss_object, metrics=['mae'])\n",
    "        hist = ae.fit(train_dataset_pre, epochs=self.config['pretrain_epoch'])\n",
    "\n",
    "        encoder_part = Model(ae.get_layer('inputs').input, ae.get_layer('latent').output)\n",
    "        self.save_weights_pretrain(encoder_part)\n",
    "\n",
    "        return hist\n",
    "\n",
    "    def save_weights_pretrain(self, model):\n",
    "        \"\"\"학습된 AutoEncoder 가중치를 DeepSVDD모델에 Initialize해주는 함수\"\"\"\n",
    "        print(f\"Saved to {os.path.join(MODEL_SAVE_DIR_PATH, 'pretrain_ae.hdf5')}\")\n",
    "        model.save_weights(os.path.join(MODEL_SAVE_DIR_PATH, 'pretrain_ae.hdf5'))  # model save\n",
    "\n",
    "    def get_c(self, eps=0.1):\n",
    "        \"\"\"Initializing the center for the hypersphere\"\"\"\n",
    "        if self.config['pretrain']:\n",
    "            self.svdd.load_weights(os.path.join(MODEL_SAVE_DIR_PATH, 'pretrain_ae.hdf5'))\n",
    "            train_dataset_pre, _ = self.data_loader.pretrain_mnist()\n",
    "            z_list = []\n",
    "            for (x_train_batch, _) in train_dataset_pre:\n",
    "                z = self.svdd.predict(x_train_batch)\n",
    "                z_list.append(z)\n",
    "            z_list = np.concatenate(z_list)\n",
    "            c = z_list.mean(axis=0)\n",
    "            # & ==> and로 바꾸기(속도가 더 빠름)\n",
    "            c[(abs(c) < eps) & (c < 0)] = -eps  # avoid trivial solution that c = 0 is trivial solution\n",
    "            c[(abs(c) < eps) & (c > 0)] = eps\n",
    "\n",
    "        else:\n",
    "            c = np.array(eps * self.svdd.latent_dim)  # pretrain model 없을시 초기화\n",
    "\n",
    "        self.value['c'] = c\n",
    "\n",
    "    def weight_loss(self, y_true, y_pred):\n",
    "        self.dist_op = tf.reduce_sum(tf.square(y_pred - self.value['c']), axis=-1) # evaluation 할 때 distance, score function 생성\n",
    "        score_op = self.dist_op - self.value['R'] ** 2\n",
    "        penalty = tf.reduce_mean(tf.maximum(score_op, tf.zeros_like(score_op)))  # tf.reduce_mean 추가\n",
    "        loss_op = self.value['R'] ** 2 + (1 / self.value['nu']) * penalty\n",
    "        return loss_op\n",
    "\n",
    "    def svdd_train(self):\n",
    "        if self.config['pretrain']:\n",
    "            self.svdd.build((1,self.input_dim))\n",
    "            self.svdd.load_weights(os.path.join(MODEL_SAVE_DIR_PATH, 'pretrain_ae.hdf5'))\n",
    "            self.get_c()\n",
    "\n",
    "        train_dataset, test_dataset = self.data_loader.svdd_mnist()\n",
    "        \"\"\"training code\"\"\"\n",
    "        # loss_object = tf.keras.losses.SparseCategoricalCrossentropy()\n",
    "        #loss_object = self.weight_loss()\n",
    "        # optimizer = tf.keras.optimizers.Adam()\n",
    "        optimizer = tfa.optimizers.AdamW(weight_decay=self.config['weight_decay'])\n",
    "\n",
    "        train_loss = tf.keras.metrics.Mean(name='train_loss')\n",
    "        train_accuracy = tf.keras.metrics.SparseCategoricalAccuracy(name='train_accuracy')\n",
    "\n",
    "        epochs = self.config['svdd_epoch']\n",
    "        for epoch in range(epochs):\n",
    "            print(f\"Start of epoch {epoch + 1}\")\n",
    "\n",
    "            # Iterate over the batches of the dataset.\n",
    "            for step, (x_batch_train, y_batch_train) in enumerate(train_dataset):\n",
    "                with tf.GradientTape() as tape:\n",
    "                    reconstructed = self.svdd(x_batch_train)\n",
    "                    # Compute reconstruction loss\n",
    "                    loss = self.weight_loss(y_batch_train, reconstructed)\n",
    "\n",
    "                grads = tape.gradient(loss, self.svdd.trainable_weights)\n",
    "                optimizer.apply_gradients(zip(grads, self.svdd.trainable_weights))\n",
    "\n",
    "                train_loss(loss)\n",
    "                #if (step + 1) % 50 == 0:\n",
    "                    #print(f\"step {step + 1}: mean loss = {train_loss.result():.4f}\")\n",
    "                if (epoch + 1) % 5 == 0:\n",
    "                    self.get_r()\n",
    "            print(f\"step {epoch + 1}: mean loss = {train_loss.result():.4f}\")\n",
    "\n",
    "        return self.svdd, self.value\n",
    "\n",
    "    def get_r(self):\n",
    "        self.value['R'] = np.quantile(np.sqrt(self.dist_op.numpy()), 1 - self.value['nu'])\n"
   ]
  },
  {
   "cell_type": "code",
   "execution_count": 72,
   "id": "manufactured-desire",
   "metadata": {},
   "outputs": [],
   "source": [
    "import json\n",
    "import os\n",
    "\n",
    "import matplotlib.pyplot as plt\n",
    "import numpy as np\n",
    "import tensorflow as tf\n",
    "import tensorflow_addons as tfa\n",
    "import pandas as pd\n",
    "\n",
    "from icecream import ic\n",
    "from sklearn.metrics import roc_auc_score\n",
    "from TaPR_pkg import etapr\n",
    "from tensorflow import keras\n",
    "from tensorflow.keras.layers import *\n",
    "from tensorflow.keras import layers, losses\n",
    "from tensorflow.keras.models import Model\n",
    "from tqdm import tqdm\n",
    "\n",
    "#rom Data.Data_Loader import Data_Loader\n",
    "#rom Model.simple_model import Pretrain_AutoEncoder\n",
    "#rom Model.simple_model import DeepSVDD\n",
    "from Preprocessing.preprocessing import convert_str_to_bool\n",
    "#rom deep_svdd_train import DeepSVDDTrain\n",
    "#rom pretrain import PreTrain"
   ]
  },
  {
   "cell_type": "code",
   "execution_count": 74,
   "id": "sound-style",
   "metadata": {},
   "outputs": [],
   "source": [
    "json_path = os.path.join(os.path.abspath('config'), 'config.json')\n",
    "with open(json_path, 'r') as f:\n",
    "    config = json.load(f)\n",
    "    config = convert_str_to_bool(fig)"
   ]
  },
  {
   "cell_type": "code",
   "execution_count": 60,
   "id": "stretch-complaint",
   "metadata": {},
   "outputs": [],
   "source": [
    "model = Train(fig, 2, 784)"
   ]
  },
  {
   "cell_type": "code",
   "execution_count": 24,
   "id": "atlantic-induction",
   "metadata": {
    "collapsed": true,
    "jupyter": {
     "outputs_hidden": true
    },
    "tags": []
   },
   "outputs": [
    {
     "name": "stdout",
     "output_type": "stream",
     "text": [
      "Epoch 1/50\n",
      "211/211 [==============================] - 1s 5ms/step - loss: 0.0309 - mae: 0.0540\n",
      "Epoch 2/50\n",
      "211/211 [==============================] - 1s 5ms/step - loss: 0.0185 - mae: 0.0369\n",
      "Epoch 3/50\n",
      "211/211 [==============================] - 1s 6ms/step - loss: 0.0172 - mae: 0.0356\n",
      "Epoch 4/50\n",
      "211/211 [==============================] - 1s 5ms/step - loss: 0.0163 - mae: 0.0337\n",
      "Epoch 5/50\n",
      "211/211 [==============================] - 1s 5ms/step - loss: 0.0149 - mae: 0.0315\n",
      "Epoch 6/50\n",
      "211/211 [==============================] - 1s 5ms/step - loss: 0.0142 - mae: 0.0303\n",
      "Epoch 7/50\n",
      "211/211 [==============================] - 1s 5ms/step - loss: 0.0137 - mae: 0.0298\n",
      "Epoch 8/50\n",
      "211/211 [==============================] - 1s 6ms/step - loss: 0.0131 - mae: 0.0291\n",
      "Epoch 9/50\n",
      "211/211 [==============================] - 1s 5ms/step - loss: 0.0123 - mae: 0.0283\n",
      "Epoch 10/50\n",
      "211/211 [==============================] - 1s 4ms/step - loss: 0.0122 - mae: 0.0279\n",
      "Epoch 11/50\n",
      "211/211 [==============================] - 1s 4ms/step - loss: 0.0119 - mae: 0.0275\n",
      "Epoch 12/50\n",
      "211/211 [==============================] - 1s 4ms/step - loss: 0.0118 - mae: 0.0273\n",
      "Epoch 13/50\n",
      "211/211 [==============================] - 1s 4ms/step - loss: 0.0116 - mae: 0.0270\n",
      "Epoch 14/50\n",
      "211/211 [==============================] - 1s 4ms/step - loss: 0.0116 - mae: 0.0268\n",
      "Epoch 15/50\n",
      "211/211 [==============================] - 1s 5ms/step - loss: 0.0115 - mae: 0.0268\n",
      "Epoch 16/50\n",
      "211/211 [==============================] - 1s 6ms/step - loss: 0.0113 - mae: 0.0264\n",
      "Epoch 17/50\n",
      "211/211 [==============================] - 1s 5ms/step - loss: 0.0114 - mae: 0.0264\n",
      "Epoch 18/50\n",
      "211/211 [==============================] - 1s 5ms/step - loss: 0.0113 - mae: 0.0263\n",
      "Epoch 19/50\n",
      "211/211 [==============================] - 1s 5ms/step - loss: 0.0112 - mae: 0.0260\n",
      "Epoch 20/50\n",
      "211/211 [==============================] - 1s 5ms/step - loss: 0.0111 - mae: 0.0259\n",
      "Epoch 21/50\n",
      "211/211 [==============================] - 1s 4ms/step - loss: 0.0111 - mae: 0.0260\n",
      "Epoch 22/50\n",
      "211/211 [==============================] - 1s 5ms/step - loss: 0.0108 - mae: 0.0255\n",
      "Epoch 23/50\n",
      "211/211 [==============================] - 1s 5ms/step - loss: 0.0105 - mae: 0.0251\n",
      "Epoch 24/50\n",
      "211/211 [==============================] - 1s 4ms/step - loss: 0.0106 - mae: 0.0252\n",
      "Epoch 25/50\n",
      "211/211 [==============================] - 1s 5ms/step - loss: 0.0103 - mae: 0.0248\n",
      "Epoch 26/50\n",
      "211/211 [==============================] - 1s 5ms/step - loss: 0.0102 - mae: 0.0245\n",
      "Epoch 27/50\n",
      "211/211 [==============================] - 1s 5ms/step - loss: 0.0103 - mae: 0.0246\n",
      "Epoch 28/50\n",
      "211/211 [==============================] - 1s 4ms/step - loss: 0.0102 - mae: 0.0247\n",
      "Epoch 29/50\n",
      "211/211 [==============================] - 1s 5ms/step - loss: 0.0103 - mae: 0.0246\n",
      "Epoch 30/50\n",
      "211/211 [==============================] - 1s 5ms/step - loss: 0.0101 - mae: 0.0244\n",
      "Epoch 31/50\n",
      "211/211 [==============================] - 1s 5ms/step - loss: 0.0099 - mae: 0.0242\n",
      "Epoch 32/50\n",
      "211/211 [==============================] - 1s 5ms/step - loss: 0.0099 - mae: 0.0242\n",
      "Epoch 33/50\n",
      "211/211 [==============================] - 1s 5ms/step - loss: 0.0100 - mae: 0.0243\n",
      "Epoch 34/50\n",
      "211/211 [==============================] - 1s 5ms/step - loss: 0.0099 - mae: 0.0241\n",
      "Epoch 35/50\n",
      "211/211 [==============================] - 1s 5ms/step - loss: 0.0099 - mae: 0.0240\n",
      "Epoch 36/50\n",
      "211/211 [==============================] - 1s 5ms/step - loss: 0.0099 - mae: 0.0241\n",
      "Epoch 37/50\n",
      "211/211 [==============================] - 1s 5ms/step - loss: 0.0099 - mae: 0.0242\n",
      "Epoch 38/50\n",
      "211/211 [==============================] - 1s 4ms/step - loss: 0.0096 - mae: 0.0237\n",
      "Epoch 39/50\n",
      "211/211 [==============================] - 1s 5ms/step - loss: 0.0096 - mae: 0.0238\n",
      "Epoch 40/50\n",
      "211/211 [==============================] - 1s 4ms/step - loss: 0.0095 - mae: 0.0236\n",
      "Epoch 41/50\n",
      "211/211 [==============================] - 1s 5ms/step - loss: 0.0095 - mae: 0.0236\n",
      "Epoch 42/50\n",
      "211/211 [==============================] - 1s 5ms/step - loss: 0.0095 - mae: 0.0237\n",
      "Epoch 43/50\n",
      "211/211 [==============================] - 1s 5ms/step - loss: 0.0094 - mae: 0.0236\n",
      "Epoch 44/50\n",
      "211/211 [==============================] - 1s 5ms/step - loss: 0.0095 - mae: 0.0237\n",
      "Epoch 45/50\n",
      "211/211 [==============================] - 1s 5ms/step - loss: 0.0094 - mae: 0.0235\n",
      "Epoch 46/50\n",
      "211/211 [==============================] - 1s 5ms/step - loss: 0.0091 - mae: 0.0232\n",
      "Epoch 47/50\n",
      "211/211 [==============================] - 1s 5ms/step - loss: 0.0092 - mae: 0.0233\n",
      "Epoch 48/50\n",
      "211/211 [==============================] - 1s 5ms/step - loss: 0.0091 - mae: 0.0232\n",
      "Epoch 49/50\n",
      "211/211 [==============================] - 1s 5ms/step - loss: 0.0091 - mae: 0.0231\n",
      "Epoch 50/50\n",
      "211/211 [==============================] - 1s 5ms/step - loss: 0.0092 - mae: 0.0234\n",
      "Saved to C:\\Users\\HYKP\\PycharmProjects\\bistel\\Deep_SVDD_tensorflow_keras\\pretrain_weight\\pretrain_ae.hdf5\n"
     ]
    },
    {
     "data": {
      "text/plain": [
       "<tensorflow.python.keras.callbacks.History at 0x17afa73ec40>"
      ]
     },
     "execution_count": 24,
     "metadata": {},
     "output_type": "execute_result"
    }
   ],
   "source": [
    "model.pretrain()"
   ]
  },
  {
   "cell_type": "code",
   "execution_count": 61,
   "id": "advised-coverage",
   "metadata": {
    "collapsed": true,
    "jupyter": {
     "outputs_hidden": true
    },
    "tags": []
   },
   "outputs": [
    {
     "name": "stdout",
     "output_type": "stream",
     "text": [
      "Start of epoch 1\n",
      "step 1: mean loss = 0.7548\n",
      "Start of epoch 2\n",
      "step 2: mean loss = 0.3912\n",
      "Start of epoch 3\n",
      "step 3: mean loss = 0.2665\n",
      "Start of epoch 4\n",
      "step 4: mean loss = 0.2029\n",
      "Start of epoch 5\n",
      "step 5: mean loss = 0.1636\n",
      "Start of epoch 6\n",
      "step 6: mean loss = 0.1375\n",
      "Start of epoch 7\n",
      "step 7: mean loss = 0.1187\n",
      "Start of epoch 8\n",
      "step 8: mean loss = 0.1046\n",
      "Start of epoch 9\n",
      "step 9: mean loss = 0.0935\n",
      "Start of epoch 10\n",
      "step 10: mean loss = 0.0847\n",
      "Start of epoch 11\n",
      "step 11: mean loss = 0.0774\n",
      "Start of epoch 12\n",
      "step 12: mean loss = 0.0713\n",
      "Start of epoch 13\n",
      "step 13: mean loss = 0.0662\n",
      "Start of epoch 14\n",
      "step 14: mean loss = 0.0618\n",
      "Start of epoch 15\n",
      "step 15: mean loss = 0.0579\n",
      "Start of epoch 16\n",
      "step 16: mean loss = 0.0546\n",
      "Start of epoch 17\n",
      "step 17: mean loss = 0.0515\n",
      "Start of epoch 18\n",
      "step 18: mean loss = 0.0488\n",
      "Start of epoch 19\n",
      "step 19: mean loss = 0.0464\n",
      "Start of epoch 20\n",
      "step 20: mean loss = 0.0443\n",
      "Start of epoch 21\n",
      "step 21: mean loss = 0.0423\n",
      "Start of epoch 22\n",
      "step 22: mean loss = 0.0405\n",
      "Start of epoch 23\n",
      "step 23: mean loss = 0.0388\n",
      "Start of epoch 24\n",
      "step 24: mean loss = 0.0373\n",
      "Start of epoch 25\n",
      "step 25: mean loss = 0.0358\n",
      "Start of epoch 26\n",
      "step 26: mean loss = 0.0345\n",
      "Start of epoch 27\n",
      "step 27: mean loss = 0.0333\n",
      "Start of epoch 28\n",
      "step 28: mean loss = 0.0321\n",
      "Start of epoch 29\n",
      "step 29: mean loss = 0.0310\n",
      "Start of epoch 30\n",
      "step 30: mean loss = 0.0300\n",
      "Start of epoch 31\n",
      "step 31: mean loss = 0.0291\n",
      "Start of epoch 32\n",
      "step 32: mean loss = 0.0282\n",
      "Start of epoch 33\n",
      "step 33: mean loss = 0.0273\n",
      "Start of epoch 34\n",
      "step 34: mean loss = 0.0265\n",
      "Start of epoch 35\n",
      "step 35: mean loss = 0.0258\n",
      "Start of epoch 36\n",
      "step 36: mean loss = 0.0251\n",
      "Start of epoch 37\n",
      "step 37: mean loss = 0.0244\n",
      "Start of epoch 38\n",
      "step 38: mean loss = 0.0238\n",
      "Start of epoch 39\n",
      "step 39: mean loss = 0.0232\n",
      "Start of epoch 40\n",
      "step 40: mean loss = 0.0226\n",
      "Start of epoch 41\n",
      "step 41: mean loss = 0.0221\n",
      "Start of epoch 42\n",
      "step 42: mean loss = 0.0216\n",
      "Start of epoch 43\n",
      "step 43: mean loss = 0.0211\n",
      "Start of epoch 44\n",
      "step 44: mean loss = 0.0206\n",
      "Start of epoch 45\n",
      "step 45: mean loss = 0.0201\n",
      "Start of epoch 46\n",
      "step 46: mean loss = 0.0197\n",
      "Start of epoch 47\n",
      "step 47: mean loss = 0.0193\n",
      "Start of epoch 48\n",
      "step 48: mean loss = 0.0189\n",
      "Start of epoch 49\n",
      "step 49: mean loss = 0.0185\n",
      "Start of epoch 50\n",
      "step 50: mean loss = 0.0181\n"
     ]
    }
   ],
   "source": [
    "svdd, value = model.svdd_train()"
   ]
  },
  {
   "cell_type": "code",
   "execution_count": 73,
   "id": "beneficial-quantity",
   "metadata": {},
   "outputs": [
    {
     "data": {
      "text/plain": [
       "Model.simple_model.DeepSVDD"
      ]
     },
     "execution_count": 73,
     "metadata": {},
     "output_type": "execute_result"
    }
   ],
   "source": [
    "evaluation = Test(config, svdd, value)"
   ]
  },
  {
   "cell_type": "code",
   "execution_count": null,
   "id": "fewer-contents",
   "metadata": {},
   "outputs": [],
   "source": [
    "x_"
   ]
  },
  {
   "cell_type": "code",
   "execution_count": 90,
   "id": "driving-dancing",
   "metadata": {},
   "outputs": [],
   "source": [
    "x_test[x_test_normal_index].shape\n",
    "#x_test[x_test_abnormal_index].shape\n",
    "b = x_test[x_test_normal_index | x_test_abnormal_index].shape"
   ]
  },
  {
   "cell_type": "code",
   "execution_count": 93,
   "id": "final-trunk",
   "metadata": {},
   "outputs": [],
   "source": [
    "y_test[y_test_normal_index] = 0"
   ]
  },
  {
   "cell_type": "code",
   "execution_count": 94,
   "id": "automatic-boulder",
   "metadata": {},
   "outputs": [
    {
     "data": {
      "text/plain": [
       "array([0, 0, 0, ..., 0, 0, 0], dtype=uint8)"
      ]
     },
     "execution_count": 94,
     "metadata": {},
     "output_type": "execute_result"
    }
   ],
   "source": [
    "y_test[y_test_normal_index]"
   ]
  },
  {
   "cell_type": "code",
   "execution_count": 46,
   "id": "continental-article",
   "metadata": {},
   "outputs": [],
   "source": [
    "a = svdd.predict(pretrain_train_dataset)\n",
    "b = svdd.predict(pretrain_test_dataset)\n",
    "c = svdd.predict(svdd_test_dataset)"
   ]
  },
  {
   "cell_type": "code",
   "execution_count": 47,
   "id": "hidden-observation",
   "metadata": {},
   "outputs": [
    {
     "data": {
      "image/png": "[encoded data removed]",
      "text/plain": [
       "<Figure size 432x288 with 1 Axes>"
      ]
     },
     "metadata": {
      "needs_background": "light"
     },
     "output_type": "display_data"
    }
   ],
   "source": [
    "fig, ax = plt.subplots()\n",
    "ax.scatter(c[:,0], c[:,1])\n",
    "ax.scatter(a[:,0], a[:,1], color ='r')\n",
    "ax.scatter(center[0], center[1], s = 100)\n",
    "\n",
    "circle = plt.Circle((center[0], center[1]), R, fill=False)\n",
    "ax.add_artist(circle)\n",
    "plt.show()"
   ]
  },
  {
   "cell_type": "code",
   "execution_count": null,
   "id": "concerned-transaction",
   "metadata": {},
   "outputs": [],
   "source": []
  }
 ],
 "metadata": {
  "kernelspec": {
   "display_name": "Python 3",
   "language": "python",
   "name": "python3"
  },
  "language_info": {
   "codemirror_mode": {
    "name": "ipython",
    "version": 3
   },
   "file_extension": ".py",
   "mimetype": "text/x-python",
   "name": "python",
   "nbconvert_exporter": "python",
   "pygments_lexer": "ipython3",
   "version": "3.8.8"
  }
 },
 "nbformat": 4,
 "nbformat_minor": 5
}
