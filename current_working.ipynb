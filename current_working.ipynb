{
 "cells": [
  {
   "cell_type": "code",
   "execution_count": 6,
   "id": "veterinary-rachel",
   "metadata": {},
   "outputs": [],
   "source": [
    "import os\n",
    "\n",
    "import matplotlib.pyplot as plt\n",
    "import numpy as np\n",
    "import tensorflow as tf\n",
    "import tensorflow_addons as tfa\n",
    "import pandas as pd\n",
    "\n",
    "from icecream import ic\n",
    "from sklearn.metrics import roc_auc_score\n",
    "from tqdm import tqdm\n",
    "from tensorflow import keras\n",
    "from tensorflow.keras.layers import *\n",
    "from tensorflow.keras import layers, losses\n",
    "from tensorflow.keras.models import Model\n",
    "\n",
    "from Data.Data_Loader import Data_Loader\n",
    "from Model.simple_model import Pretrain_AutoEncoder\n",
    "from Model.simple_model import DeepSVDD\n",
    "from deep_svdd_train import DeepSVDDTrain\n",
    "from pretrain import PreTrain"
   ]
  },
  {
   "cell_type": "code",
   "execution_count": 1,
   "id": "statutory-programmer",
   "metadata": {},
   "outputs": [],
   "source": [
    "import json\n",
    "import os\n",
    "\n",
    "import matplotlib.pyplot as plt\n",
    "import numpy as np\n",
    "import tensorflow as tf\n",
    "import tensorflow_addons as tfa\n",
    "#import tensorflow_probability as tfp\n",
    "import pandas as pd\n",
    "\n",
    "from icecream import ic\n",
    "from sklearn.metrics import roc_auc_score\n",
    "from tqdm import tqdm\n",
    "from tensorflow import keras\n",
    "from tensorflow.keras.layers import *\n",
    "from tensorflow.keras import layers, losses\n",
    "# from tensorflow.keras import lossesf\n",
    "from tensorflow.keras.models import Model\n",
    "\n",
    "from Data.Data_Loader import Mnist_Data_Loader\n",
    "from Model.simple_model import Pretrain_AutoEncoder\n",
    "from Model.simple_model import DeepSVDD\n",
    "from Preprocessing.preprocessing import convert_str_to_bool\n",
    "\n",
    "MODEL_SAVE_DIR_PATH = os.path.abspath('pretrain_weight')\n",
    "\n",
    "class CustomCallback(keras.callbacks.Callback):\n",
    "    # def on_epoch_begin(self, epoch, logs=None):\n",
    "    #     keys = list(logs.keys())\n",
    "    #     print(\"Start epoch {} of training; got log keys: {}\".format(epoch, keys))\n",
    "\n",
    "    def on_epoch_begin(self, epoch, logs=None):\n",
    "        keys = list(logs.keys())\n",
    "        print(f\"this is test case{epoch}\")\n",
    "\n",
    "\n",
    "class Train:\n",
    "    def __init__(self, config: dict, latent_dim, input_dim):\n",
    "        self.config = config\n",
    "        self.pretrain_ae = Pretrain_AutoEncoder(latent_dim=latent_dim, input_dim=input_dim)\n",
    "        self.svdd = DeepSVDD(latent_dim=latent_dim, input_dim=input_dim)\n",
    "        self.value = {'c': config['c'],\n",
    "                      'R': config['R'],\n",
    "                      'nu': config['nu']}\n",
    "        self.latent_dim = latent_dim\n",
    "        self.input_dim = input_dim\n",
    "        self.dist_op = 0.0\n",
    "        self.data_loader = Mnist_Data_Loader(self.config)\n",
    "        self.check()\n",
    "        self.dist = 0.0\n",
    "\n",
    "    # weight 저장 폴더 생성\n",
    "    def check(self):\n",
    "        if not os.path.exists('pretrain_weight'):\n",
    "            os.mkdir('pretrain_weight')\n",
    "\n",
    "    def pretrain(self):\n",
    "        ae = self.pretrain_ae.build_graph()\n",
    "        train_dataset_pre, test_dataset_pre = self.data_loader.pretrain_mnist()\n",
    "        loss_object = tf.keras.losses.MeanSquaredError()\n",
    "        optimizer = tf.keras.optimizers.Adam()\n",
    "\n",
    "        ae.compile(optimizer=optimizer, loss=loss_object, metrics=['mae'])\n",
    "        hist = ae.fit(train_dataset_pre, epochs=self.config['pretrain_epoch'])\n",
    "\n",
    "        encoder_part = Model(ae.get_layer('inputs').input, ae.get_layer('latent').output)\n",
    "        self.save_weights_pretrain(encoder_part)\n",
    "\n",
    "        return hist, ae\n",
    "\n",
    "    def save_weights_pretrain(self, model):\n",
    "        \"\"\"학습된 AutoEncoder 가중치를 DeepSVDD모델에 Initialize해주는 함수\"\"\"\n",
    "        print(f\"Saved to {os.path.join(MODEL_SAVE_DIR_PATH, 'pretrain_ae.hdf5')}\")\n",
    "        model.save_weights(os.path.join(MODEL_SAVE_DIR_PATH, 'pretrain_ae.hdf5'))  # model save\n",
    "\n",
    "    def get_c(self, eps=0.1):\n",
    "        \"\"\"Initializing the center for the hypersphere\"\"\"\n",
    "        if self.config['pretrain']:\n",
    "            self.svdd.load_weights(os.path.join(MODEL_SAVE_DIR_PATH, 'pretrain_ae.hdf5'))\n",
    "            train_dataset_pre, _ = self.data_loader.pretrain_mnist()\n",
    "            z_list = []\n",
    "            for (x_train_batch, _) in train_dataset_pre:\n",
    "                z = self.svdd.predict(x_train_batch)\n",
    "                z_list.append(z)\n",
    "            z_list = np.concatenate(z_list)\n",
    "            c = z_list.mean(axis=0)\n",
    "            # & ==> and로 바꾸기(속도가 더 빠름)\n",
    "            c[(abs(c) < eps) & (c < 0)] = -eps  # avoid trivial solution that c = 0 is trivial solution\n",
    "            c[(abs(c) < eps) & (c > 0)] = eps\n",
    "\n",
    "        else:\n",
    "            c = np.array(eps * self.svdd.latent_dim)  # pretrain model 없을시 초기화\n",
    "\n",
    "        self.value['c'] = c\n",
    "\n",
    "    def weight_loss(self, y_true, y_pred):\n",
    "        dist_op = tf.reduce_sum(tf.square(y_pred - self.value['c']), axis=-1) # evaluation 할 때 distance, score function 생성\n",
    "        self.dist = (tf.identity(dist_op))\n",
    "        #self.dist_op = (tf.square(y_pred - self.value['c']))\n",
    "        score_op = (dist_op - self.value['R'] ** 2)\n",
    "        penalty = tf.reduce_mean(tf.maximum(score_op, tf.zeros_like(score_op)))  # tf.reduce_mean 추가\n",
    "        loss_op = self.value['R'] ** 2 + (1 / self.value['nu']) * penalty\n",
    "        return loss_op\n",
    "\n",
    "    def radius(self, epoch, logs={}):\n",
    "        if (epoch+1) % 5 == 0:\n",
    "            self.get_r()\n",
    "\n",
    "    def svdd_train_fit(self):\n",
    "        if self.config['pretrain']:\n",
    "            self.svdd.build((1,self.input_dim))\n",
    "            self.svdd.load_weights(os.path.join(MODEL_SAVE_DIR_PATH, 'pretrain_ae.hdf5'))\n",
    "            self.get_c()\n",
    "\n",
    "        train_dataset, test_dataset = self.data_loader.svdd_mnist()\n",
    "        optimizer = tfa.optimizers.AdamW(weight_decay=self.config['weight_decay'])\n",
    "        loss_obj = self.weight_loss\n",
    "        printlogcallback = tf.keras.callbacks.LambdaCallback(on_epoch_end=self.radius)\n",
    "\n",
    "        self.svdd.compile(optimizer=optimizer, loss=loss_obj)\n",
    "        for epoch_ in range(self.config['svdd_epoch']):\n",
    "            self.svdd.fit(train_dataset, epochs=1)\n",
    "            if (epoch_+1) % 5 == 0:\n",
    "                self.get_r()\n",
    "\n",
    "        return self.svdd, self.value\n",
    "\n",
    "    def svdd_train(self, is_train=True):\n",
    "        if self.config['pretrain']:\n",
    "            self.svdd.build((1,self.input_dim))\n",
    "            self.svdd.load_weights(os.path.join(MODEL_SAVE_DIR_PATH, 'pretrain_ae.hdf5'))\n",
    "            self.get_c()\n",
    "        \n",
    "        train_dataset, test_dataset = self.data_loader.svdd_mnist(is_train)\n",
    "        \"\"\"training code\"\"\"\n",
    "        # loss_object = tf.keras.losses.SparseCategoricalCrossentropy()\n",
    "        #loss_object = self.weight_loss()\n",
    "        # optimizer = tf.keras.optimizers.Adam()\n",
    "        optimizer = tfa.optimizers.AdamW(weight_decay=self.config['weight_decay'])\n",
    "\n",
    "        train_loss = tf.keras.metrics.Mean(name='train_loss')\n",
    "        train_accuracy = tf.keras.metrics.SparseCategoricalAccuracy(name='train_accuracy')\n",
    "\n",
    "        epochs = self.config['svdd_epoch']\n",
    "        for epoch in range(epochs):\n",
    "            print(f\"Start of epoch {epoch + 1}\")\n",
    "\n",
    "            # Iterate over the batches of the dataset.\n",
    "            for step, (x_batch_train, y_batch_train) in enumerate(train_dataset):\n",
    "                with tf.GradientTape() as tape:\n",
    "                    reconstructed = self.svdd(x_batch_train)\n",
    "                    # Compute reconstruction loss\n",
    "                    loss = self.weight_loss(y_batch_train, reconstructed)\n",
    "\n",
    "                grads = tape.gradient(loss, self.svdd.trainable_weights)\n",
    "                optimizer.apply_gradients(zip(grads, self.svdd.trainable_weights))\n",
    "\n",
    "                train_loss(loss)\n",
    "                #if (step + 1) % 50 == 0:\n",
    "                    #print(f\"step {step + 1}: mean loss = {train_loss.result():.4f}\")\n",
    "                if (epoch + 1) % 5 == 0:\n",
    "                    self.get_r()\n",
    "            print(f\"epoch {epoch + 1}: mean loss = {train_loss.result():.4f}\")\n",
    "\n",
    "        return self.svdd, self.value\n",
    "\n",
    "    def get_r(self):\n",
    "        #self.value['R'] = tfp.stats.quantiles(tf.sqrt(self.dist), 1 - self.value['nu'])\n",
    "        self.value['R'] = np.quantile(np.sqrt(self.dist), 1 - self.value['nu'])"
   ]
  },
  {
   "cell_type": "code",
   "execution_count": 2,
   "id": "brave-airplane",
   "metadata": {},
   "outputs": [],
   "source": [
    "json_path = os.path.join(os.path.abspath('config'), 'config.json')\n",
    "with open(json_path, 'r') as f:\n",
    "    config = json.load(f)\n",
    "    config = convert_str_to_bool(config)"
   ]
  },
  {
   "cell_type": "code",
   "execution_count": 3,
   "id": "cooperative-morning",
   "metadata": {},
   "outputs": [],
   "source": [
    "pretrain_ae = Pretrain_AutoEncoder(100, 784)"
   ]
  },
  {
   "cell_type": "code",
   "execution_count": 4,
   "id": "quantitative-greek",
   "metadata": {},
   "outputs": [],
   "source": [
    "train = Train(config, 100, 784)"
   ]
  },
  {
   "cell_type": "code",
   "execution_count": 5,
   "id": "going-fleet",
   "metadata": {},
   "outputs": [
    {
     "name": "stdout",
     "output_type": "stream",
     "text": [
      "Epoch 1/8\n",
      "211/211 [==============================] - 1s 4ms/step - loss: 0.0137 - mae: 0.0301\n",
      "Epoch 2/8\n",
      "211/211 [==============================] - 1s 4ms/step - loss: 0.0078 - mae: 0.0190\n",
      "Epoch 3/8\n",
      "211/211 [==============================] - 1s 4ms/step - loss: 0.0070 - mae: 0.0173\n",
      "Epoch 4/8\n",
      "211/211 [==============================] - 1s 4ms/step - loss: 0.0065 - mae: 0.0163\n",
      "Epoch 5/8\n",
      "211/211 [==============================] - 1s 4ms/step - loss: 0.0061 - mae: 0.0155\n",
      "Epoch 6/8\n",
      "211/211 [==============================] - 1s 4ms/step - loss: 0.0052 - mae: 0.0143\n",
      "Epoch 7/8\n",
      "211/211 [==============================] - 1s 4ms/step - loss: 0.0050 - mae: 0.0138\n",
      "Epoch 8/8\n",
      "211/211 [==============================] - 1s 4ms/step - loss: 0.0049 - mae: 0.0135\n",
      "Saved to C:\\Users\\BISTel\\PycharmProjects\\bistel\\Deep_SVDD\\pretrain_weight\\pretrain_ae.hdf5\n"
     ]
    }
   ],
   "source": [
    "hist, ae = train.pretrain()"
   ]
  },
  {
   "cell_type": "code",
   "execution_count": 6,
   "id": "agricultural-might",
   "metadata": {},
   "outputs": [
    {
     "name": "stdout",
     "output_type": "stream",
     "text": [
      "WARNING:tensorflow:Layer deep_svdd is casting an input tensor from dtype float64 to the layer's dtype of float32, which is new behavior in TensorFlow 2.  The layer has dtype float32 because its dtype defaults to floatx.\n",
      "\n",
      "If you intended to run this layer in float32, you can safely ignore this warning. If in doubt, this warning is likely only an issue if you are porting a TensorFlow 1.X model to TensorFlow 2.\n",
      "\n",
      "To change all layers to have dtype float64 by default, call `tf.keras.backend.set_floatx('float64')`. To change just this layer, pass dtype='float64' to the layer constructor. If you are the author of this layer, you can disable autocasting by passing autocast=False to the base Layer constructor.\n",
      "\n",
      "Start of epoch 1\n",
      "epoch 1: mean loss = 9.1320\n",
      "Start of epoch 2\n",
      "epoch 2: mean loss = 6.3121\n",
      "Start of epoch 3\n",
      "epoch 3: mean loss = 4.8935\n",
      "Start of epoch 4\n",
      "epoch 4: mean loss = 4.1591\n",
      "Start of epoch 5\n",
      "epoch 5: mean loss = 3.3821\n",
      "Start of epoch 6\n",
      "epoch 6: mean loss = 2.8597\n",
      "Start of epoch 7\n",
      "epoch 7: mean loss = 2.4849\n",
      "Start of epoch 8\n",
      "epoch 8: mean loss = 2.2028\n",
      "Start of epoch 9\n",
      "epoch 9: mean loss = 1.9835\n",
      "Start of epoch 10\n",
      "epoch 10: mean loss = 1.8070\n"
     ]
    }
   ],
   "source": [
    "svdd, value = train.svdd_train()"
   ]
  },
  {
   "cell_type": "code",
   "execution_count": 7,
   "id": "failing-graduate",
   "metadata": {},
   "outputs": [],
   "source": [
    "import os\n",
    "\n",
    "import matplotlib.pyplot as plt\n",
    "import numpy as np\n",
    "\n",
    "from Data.Data_Loader import Mnist_Data_Loader\n",
    "\n",
    "class Test:\n",
    "    def __init__(self, config: dict, svdd, value: dict, pretrain):\n",
    "        self.config = config\n",
    "        self.svdd = svdd\n",
    "        self.pretrain = pretrain\n",
    "        self.value = value\n",
    "        self.data_loader = Mnist_Data_Loader(self.config)\n",
    "\n",
    "    def pretrain_evaluation(self):\n",
    "        train_dataset, test_dataset = self.data_loader.pretrain_mnist()\n",
    "        self.pretrain.buld()\n",
    "        self.pretrain.load_weights((os.path.join(MODEL_SAVE_DIR_PATH, 'pretrain_ae.hdf5')))\n",
    "\n",
    "        '''\n",
    "        pred = self.pretrain.predict(test_dataset)\n",
    "        pred = pred.reshape(-1,28,28)\n",
    "        fig, ax = plt.subplots(1, 2)\n",
    "        ax[0].imshow(pred[0])\n",
    "        ax[1].imshow(pred[1])\n",
    "        plt.show()\n",
    "        '''\n",
    "        return self.pretrain.predict(test_dataset)  # shape 확인\n",
    "\n",
    "    def dist(self, pred):\n",
    "        return np.sqrt(np.sum(((self.value['c'] - pred) ** 2), axis=-1))\n",
    "\n",
    "    def score(self, pred):\n",
    "        return self.dist(pred) - self.value['R']\n",
    "\n",
    "        #scores_normal_index = np.where(scores > 0)\n",
    "\n",
    "    def svdd_evaluation(self, is_valid=False):\n",
    "        train_dataset, test_dataset = self.data_loader.svdd_mnist()\n",
    "        \n",
    "        if is_valid:\n",
    "            self.svdd.predict(train_dataset)\n",
    "        else:\n",
    "            pre = self.svdd.predict(test_dataset)\n",
    "            \n",
    "\n",
    "\n",
    "        \n",
    "\n",
    "    def plotting(self):\n",
    "        pass\n"
   ]
  },
  {
   "cell_type": "code",
   "execution_count": 44,
   "id": "needed-correlation",
   "metadata": {},
   "outputs": [],
   "source": [
    "import numpy as np\n",
    "\n",
    "import tensorflow as tf\n",
    "\n",
    "from tensorflow import keras\n",
    "\n",
    "\n",
    "class Mnist_Data_Loader:\n",
    "    def __init__(self, config):\n",
    "        self.type_of_data = config['data_type']\n",
    "        self.normal_class = config['normal_class']\n",
    "        self.abnormal_class = config['abnormal_class']\n",
    "        self.config = config\n",
    "\n",
    "    def get_data(self):\n",
    "        if self.type_of_data(self):\n",
    "            self.mnist()\n",
    "\n",
    "    def pretrain_mnist(self):\n",
    "        (x_train, y_train), (x_test, y_test) = keras.datasets.mnist.load_data()\n",
    "        x_train = np.reshape(x_train, (-1, 784)) / 255.0\n",
    "        x_test = np.reshape(x_test, (-1, 784)) / 255.0\n",
    "\n",
    "        x_train_normal = x_train[np.where(y_train == self.normal_class)]\n",
    "        x_test_normal = x_test[np.where(y_test == self.normal_class)]\n",
    "        train_dataset = tf.data.Dataset.from_tensor_slices((x_train_normal, x_train_normal))\n",
    "\n",
    "        train_dataset = train_dataset.shuffle(buffer_size=1024).batch(self.config['batch'])\n",
    "        test_dataset = tf.data.Dataset.from_tensor_slices((x_test_normal, x_test_normal))\n",
    "        test_dataset = test_dataset.shuffle(buffer_size=1024).batch(self.config['batch'])\n",
    "\n",
    "        return train_dataset, test_dataset\n",
    "\n",
    "    def svdd_mnist(self, is_train=True):\n",
    "        (x_train, y_train), (x_test, y_test) = keras.datasets.mnist.load_data()\n",
    "        x_train = np.reshape(x_train, (-1, 784)) / 255.0\n",
    "        x_test = np.reshape(x_test, (-1, 784)) / 255.0\n",
    "\n",
    "        x_train_normal = x_train[np.where(y_train == self.normal_class)]\n",
    "        y_train_normal = y_train[np.where(y_train == self.normal_class)]\n",
    "        \n",
    "        #add\n",
    "        x_test_normal = x_test[np.where(y_test == self.normal_class)]\n",
    "        y_test_normal = y_test[np.where(y_test == self.normal_class)]\n",
    "        #add\n",
    "        \n",
    "        x_test_normal_index = (y_test == self.normal_class)\n",
    "        y_test_normal_index = (y_test == self.normal_class)\n",
    "        x_test_abnormal_index = (y_test == self.abnormal_class)\n",
    "        y_test_abnormal_index = (y_test == self.abnormal_class)\n",
    "\n",
    "        y_test[y_test_normal_index] = 0 #normal_class\n",
    "        y_test[y_test_abnormal_index] = 1 #abnormal_class\n",
    "\n",
    "        x_test = x_test[x_test_normal_index | x_test_abnormal_index]\n",
    "        y_test = y_test[y_test_normal_index | y_test_abnormal_index]\n",
    "\n",
    "        train_dataset = tf.data.Dataset.from_tensor_slices((x_train_normal, y_train_normal))\n",
    "        train_dataset = train_dataset.shuffle(buffer_size=1024).batch(self.config['batch'])\n",
    "\n",
    "        test_dataset = tf.data.Dataset.from_tensor_slices((x_test, y_test))\n",
    "        test_dataset = test_dataset.shuffle(buffer_size=1024).batch(self.config['batch'])\n",
    "\n",
    "        if is_train:\n",
    "            return train_dataset, test_dataset\n",
    "        \n",
    "        return x_train, y_train, x_test, y_test"
   ]
  },
  {
   "cell_type": "code",
   "execution_count": 45,
   "id": "provincial-alberta",
   "metadata": {},
   "outputs": [],
   "source": [
    "#from Data.Data_Loader import Mnist_Data_Loader\n",
    "loader = Mnist_Data_Loader(config)\n",
    "x_train, y_train, x_test, y_test = loader.svdd_mnist(is_train=False)\n",
    "#model.predict()"
   ]
  },
  {
   "cell_type": "code",
   "execution_count": 46,
   "id": "spectacular-adult",
   "metadata": {},
   "outputs": [],
   "source": [
    "pred = svdd.predict(x_train)"
   ]
  },
  {
   "cell_type": "code",
   "execution_count": 51,
   "id": "silver-movie",
   "metadata": {},
   "outputs": [],
   "source": [
    "def dist(pred, value):\n",
    "    return np.sqrt(np.sum(((value['c'] - pred) ** 2), axis=-1))"
   ]
  },
  {
   "cell_type": "code",
   "execution_count": 52,
   "id": "spanish-rachel",
   "metadata": {},
   "outputs": [],
   "source": [
    "d = dist(pred, value)"
   ]
  },
  {
   "cell_type": "code",
   "execution_count": 53,
   "id": "polished-vacation",
   "metadata": {},
   "outputs": [
    {
     "data": {
      "text/plain": [
       "array([ True,  True,  True, ...,  True,  True,  True])"
      ]
     },
     "execution_count": 53,
     "metadata": {},
     "output_type": "execute_result"
    }
   ],
   "source": [
    "condition = dist(pred, value) > value['R']\n",
    "condition"
   ]
  },
  {
   "cell_type": "code",
   "execution_count": 54,
   "id": "bored-violation",
   "metadata": {
    "tags": []
   },
   "outputs": [],
   "source": [
    "result = [1 if b == True else 0 for b in condition ]"
   ]
  },
  {
   "cell_type": "code",
   "execution_count": 55,
   "id": "thousand-nature",
   "metadata": {},
   "outputs": [
    {
     "data": {
      "text/plain": [
       "array([5, 0, 4, ..., 5, 6, 8], dtype=uint8)"
      ]
     },
     "execution_count": 55,
     "metadata": {},
     "output_type": "execute_result"
    }
   ],
   "source": [
    "y_train"
   ]
  },
  {
   "cell_type": "code",
   "execution_count": 18,
   "id": "neither-coaching",
   "metadata": {},
   "outputs": [
    {
     "ename": "RuntimeError",
     "evalue": "You must compile your model before training/testing. Use `model.compile(optimizer, loss)`.",
     "output_type": "error",
     "traceback": [
      "\u001b[1;31m---------------------------------------------------------------------------\u001b[0m",
      "\u001b[1;31mRuntimeError\u001b[0m                              Traceback (most recent call last)",
      "\u001b[1;32m<ipython-input-18-b8f56c5744be>\u001b[0m in \u001b[0;36m<module>\u001b[1;34m\u001b[0m\n\u001b[1;32m----> 1\u001b[1;33m \u001b[0msvdd\u001b[0m\u001b[1;33m.\u001b[0m\u001b[0mevaluate\u001b[0m\u001b[1;33m(\u001b[0m\u001b[0mtest\u001b[0m\u001b[1;33m,\u001b[0m \u001b[0mresult\u001b[0m\u001b[1;33m)\u001b[0m\u001b[1;33m\u001b[0m\u001b[1;33m\u001b[0m\u001b[0m\n\u001b[0m",
      "\u001b[1;32mc:\\users\\bistel\\miniconda3\\envs\\python38\\lib\\site-packages\\tensorflow\\python\\keras\\engine\\training.py\u001b[0m in \u001b[0;36m_method_wrapper\u001b[1;34m(self, *args, **kwargs)\u001b[0m\n\u001b[0;32m    106\u001b[0m   \u001b[1;32mdef\u001b[0m \u001b[0m_method_wrapper\u001b[0m\u001b[1;33m(\u001b[0m\u001b[0mself\u001b[0m\u001b[1;33m,\u001b[0m \u001b[1;33m*\u001b[0m\u001b[0margs\u001b[0m\u001b[1;33m,\u001b[0m \u001b[1;33m**\u001b[0m\u001b[0mkwargs\u001b[0m\u001b[1;33m)\u001b[0m\u001b[1;33m:\u001b[0m\u001b[1;33m\u001b[0m\u001b[1;33m\u001b[0m\u001b[0m\n\u001b[0;32m    107\u001b[0m     \u001b[1;32mif\u001b[0m \u001b[1;32mnot\u001b[0m \u001b[0mself\u001b[0m\u001b[1;33m.\u001b[0m\u001b[0m_in_multi_worker_mode\u001b[0m\u001b[1;33m(\u001b[0m\u001b[1;33m)\u001b[0m\u001b[1;33m:\u001b[0m  \u001b[1;31m# pylint: disable=protected-access\u001b[0m\u001b[1;33m\u001b[0m\u001b[1;33m\u001b[0m\u001b[0m\n\u001b[1;32m--> 108\u001b[1;33m       \u001b[1;32mreturn\u001b[0m \u001b[0mmethod\u001b[0m\u001b[1;33m(\u001b[0m\u001b[0mself\u001b[0m\u001b[1;33m,\u001b[0m \u001b[1;33m*\u001b[0m\u001b[0margs\u001b[0m\u001b[1;33m,\u001b[0m \u001b[1;33m**\u001b[0m\u001b[0mkwargs\u001b[0m\u001b[1;33m)\u001b[0m\u001b[1;33m\u001b[0m\u001b[1;33m\u001b[0m\u001b[0m\n\u001b[0m\u001b[0;32m    109\u001b[0m \u001b[1;33m\u001b[0m\u001b[0m\n\u001b[0;32m    110\u001b[0m     \u001b[1;31m# Running inside `run_distribute_coordinator` already.\u001b[0m\u001b[1;33m\u001b[0m\u001b[1;33m\u001b[0m\u001b[1;33m\u001b[0m\u001b[0m\n",
      "\u001b[1;32mc:\\users\\bistel\\miniconda3\\envs\\python38\\lib\\site-packages\\tensorflow\\python\\keras\\engine\\training.py\u001b[0m in \u001b[0;36mevaluate\u001b[1;34m(self, x, y, batch_size, verbose, sample_weight, steps, callbacks, max_queue_size, workers, use_multiprocessing, return_dict)\u001b[0m\n\u001b[0;32m   1333\u001b[0m     \u001b[0m_keras_api_gauge\u001b[0m\u001b[1;33m.\u001b[0m\u001b[0mget_cell\u001b[0m\u001b[1;33m(\u001b[0m\u001b[1;34m'evaluate'\u001b[0m\u001b[1;33m)\u001b[0m\u001b[1;33m.\u001b[0m\u001b[0mset\u001b[0m\u001b[1;33m(\u001b[0m\u001b[1;32mTrue\u001b[0m\u001b[1;33m)\u001b[0m\u001b[1;33m\u001b[0m\u001b[1;33m\u001b[0m\u001b[0m\n\u001b[0;32m   1334\u001b[0m     \u001b[0mversion_utils\u001b[0m\u001b[1;33m.\u001b[0m\u001b[0mdisallow_legacy_graph\u001b[0m\u001b[1;33m(\u001b[0m\u001b[1;34m'Model'\u001b[0m\u001b[1;33m,\u001b[0m \u001b[1;34m'evaluate'\u001b[0m\u001b[1;33m)\u001b[0m\u001b[1;33m\u001b[0m\u001b[1;33m\u001b[0m\u001b[0m\n\u001b[1;32m-> 1335\u001b[1;33m     \u001b[0mself\u001b[0m\u001b[1;33m.\u001b[0m\u001b[0m_assert_compile_was_called\u001b[0m\u001b[1;33m(\u001b[0m\u001b[1;33m)\u001b[0m\u001b[1;33m\u001b[0m\u001b[1;33m\u001b[0m\u001b[0m\n\u001b[0m\u001b[0;32m   1336\u001b[0m     \u001b[0mself\u001b[0m\u001b[1;33m.\u001b[0m\u001b[0m_check_call_args\u001b[0m\u001b[1;33m(\u001b[0m\u001b[1;34m'evaluate'\u001b[0m\u001b[1;33m)\u001b[0m\u001b[1;33m\u001b[0m\u001b[1;33m\u001b[0m\u001b[0m\n\u001b[0;32m   1337\u001b[0m     \u001b[0m_disallow_inside_tf_function\u001b[0m\u001b[1;33m(\u001b[0m\u001b[1;34m'evaluate'\u001b[0m\u001b[1;33m)\u001b[0m\u001b[1;33m\u001b[0m\u001b[1;33m\u001b[0m\u001b[0m\n",
      "\u001b[1;32mc:\\users\\bistel\\miniconda3\\envs\\python38\\lib\\site-packages\\tensorflow\\python\\keras\\engine\\training.py\u001b[0m in \u001b[0;36m_assert_compile_was_called\u001b[1;34m(self)\u001b[0m\n\u001b[0;32m   2567\u001b[0m     \u001b[1;31m# (i.e. whether the model is built and its inputs/outputs are set).\u001b[0m\u001b[1;33m\u001b[0m\u001b[1;33m\u001b[0m\u001b[1;33m\u001b[0m\u001b[0m\n\u001b[0;32m   2568\u001b[0m     \u001b[1;32mif\u001b[0m \u001b[1;32mnot\u001b[0m \u001b[0mself\u001b[0m\u001b[1;33m.\u001b[0m\u001b[0m_is_compiled\u001b[0m\u001b[1;33m:\u001b[0m\u001b[1;33m\u001b[0m\u001b[1;33m\u001b[0m\u001b[0m\n\u001b[1;32m-> 2569\u001b[1;33m       raise RuntimeError('You must compile your model before '\n\u001b[0m\u001b[0;32m   2570\u001b[0m                          \u001b[1;34m'training/testing. '\u001b[0m\u001b[1;33m\u001b[0m\u001b[1;33m\u001b[0m\u001b[0m\n\u001b[0;32m   2571\u001b[0m                          'Use `model.compile(optimizer, loss)`.')\n",
      "\u001b[1;31mRuntimeError\u001b[0m: You must compile your model before training/testing. Use `model.compile(optimizer, loss)`."
     ]
    }
   ],
   "source": [
    "svdd.evaluate()"
   ]
  },
  {
   "cell_type": "code",
   "execution_count": 60,
   "id": "contained-wesley",
   "metadata": {},
   "outputs": [],
   "source": [
    "normal_class = 1\n",
    "abnormal_class = 5"
   ]
  },
  {
   "cell_type": "code",
   "execution_count": 56,
   "id": "heated-invite",
   "metadata": {},
   "outputs": [],
   "source": [
    "(x_train, y_train), (x_test, y_test) = keras.datasets.mnist.load_data()\n",
    "x_train = np.reshape(x_train, (-1, 784)) / 255.0\n",
    "x_test = np.reshape(x_test, (-1, 784)) / 255.0"
   ]
  },
  {
   "cell_type": "code",
   "execution_count": 72,
   "id": "floral-employee",
   "metadata": {},
   "outputs": [
    {
     "data": {
      "text/plain": [
       "array([False, False,  True, ..., False, False, False])"
      ]
     },
     "execution_count": 72,
     "metadata": {},
     "output_type": "execute_result"
    }
   ],
   "source": []
  },
  {
   "cell_type": "code",
   "execution_count": 61,
   "id": "moving-adobe",
   "metadata": {},
   "outputs": [],
   "source": [
    "x_train_normal = x_train[np.where(y_train == normal_class)]\n",
    "y_train_normal = y_train[np.where(y_train == normal_class)]\n",
    "\n",
    "#add\n",
    "x_test_normal = x_test[np.where(y_test == normal_class)]\n",
    "y_test_normal = y_test[np.where(y_test == normal_class)]\n",
    "#add\n",
    "\n",
    "x_test_normal_index = (y_test == normal_class)\n",
    "y_test_normal_index = (y_test == normal_class)\n",
    "x_test_abnormal_index = (y_test == abnormal_class)\n",
    "y_test_abnormal_index = (y_test == abnormal_class)\n",
    "\n",
    "y_test[y_test_normal_index] = 0 #normal_class\n",
    "y_test[y_test_abnormal_index] = 1 #abnormal_class\n",
    "\n",
    "x_test = x_test[x_test_normal_index | x_test_abnormal_index]\n",
    "y_test = y_test[y_test_normal_index | y_test_abnormal_index]"
   ]
  },
  {
   "cell_type": "code",
   "execution_count": 55,
   "id": "expensive-collective",
   "metadata": {},
   "outputs": [
    {
     "data": {
      "image/png": "[encoded data removed]",
      "text/plain": [
       "<Figure size 432x288 with 1 Axes>"
      ]
     },
     "metadata": {
      "needs_background": "light"
     },
     "output_type": "display_data"
    }
   ],
   "source": [
    "fig, ax = plt.subplots()\n",
    "ax.scatter(trains[:,0], trains[:,1], color = 'r')\n",
    "ax.scatter(tests[:,0], tests[:,1], color = 'b', alpha = 0.02)\n",
    "ax.scatter(center_point[0], center_point[1], s = 100)\n",
    "a = plt.Circle((center_point[0], center_point[1]), R, fill=False)\n",
    "ax.set_xlim(1,6)\n",
    "ax.set_ylim(1,6)\n",
    "ax.add_artist(a)\n",
    "plt.show()"
   ]
  },
  {
   "cell_type": "code",
   "execution_count": 46,
   "id": "complex-complaint",
   "metadata": {},
   "outputs": [
    {
     "data": {
      "image/png": "[encoded data removed]",
      "text/plain": [
       "<Figure size 432x288 with 1 Axes>"
      ]
     },
     "metadata": {
      "needs_background": "light"
     },
     "output_type": "display_data"
    }
   ],
   "source": [
    "import matplotlib.pyplot as plt\n",
    "\n",
    "figure, axes = plt.subplots()\n",
    "draw_circle = plt.Circle((0.5, 0.5), 0.3,fill=False)\n",
    "\n",
    "axes.set_aspect(1)\n",
    "axes.add_artist(draw_circle)\n",
    "plt.title('Circle')\n",
    "plt.show()"
   ]
  },
  {
   "cell_type": "code",
   "execution_count": null,
   "id": "registered-concord",
   "metadata": {},
   "outputs": [],
   "source": []
  }
 ],
 "metadata": {
  "kernelspec": {
   "display_name": "Python 3",
   "language": "python",
   "name": "python3"
  },
  "language_info": {
   "codemirror_mode": {
    "name": "ipython",
    "version": 3
   },
   "file_extension": ".py",
   "mimetype": "text/x-python",
   "name": "python",
   "nbconvert_exporter": "python",
   "pygments_lexer": "ipython3",
   "version": "3.8.8"
  }
 },
 "nbformat": 4,
 "nbformat_minor": 5
}
